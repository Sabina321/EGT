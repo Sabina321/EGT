{
 "metadata": {
  "name": "",
  "signature": "sha256:5f4df48802c3f79c51e02dddd1925d69f9fcff1bc3f6df1fa665ad58793ebf4c"
 },
 "nbformat": 3,
 "nbformat_minor": 0,
 "worksheets": [
  {
   "cells": [
    {
     "cell_type": "code",
     "collapsed": false,
     "input": [
      "import numpy as np\n",
      "import matplotlib.pyplot as plt\n",
      "%matplotlib inline\n",
      "from sympy import symbols,solve"
     ],
     "language": "python",
     "metadata": {},
     "outputs": [],
     "prompt_number": 35
    },
    {
     "cell_type": "code",
     "collapsed": false,
     "input": [
      "import essential_game_functionality\n",
      "reload(essential_game_functionality)\n",
      "import essential_game_functionality as gf"
     ],
     "language": "python",
     "metadata": {},
     "outputs": [],
     "prompt_number": 36
    },
    {
     "cell_type": "code",
     "collapsed": false,
     "input": [],
     "language": "python",
     "metadata": {},
     "outputs": [],
     "prompt_number": 2
    },
    {
     "cell_type": "code",
     "collapsed": false,
     "input": [
      "#Set up the matrix\n",
      "hawk_dove = np.array([[-1,4],[0,2]])\n",
      "#Print pretty matrix "
     ],
     "language": "python",
     "metadata": {},
     "outputs": [],
     "prompt_number": 27
    },
    {
     "cell_type": "code",
     "collapsed": false,
     "input": [
      "#get each fitness function for values from 0 to one in step size .1\n",
      "hawk = [gf.strategy_fitness_at_x(hawk_dove,0,[s,1-s]) for s in np.arange(0,1.1,.1)]\n",
      "dove = [gf.strategy_fitness_at_x(hawk_dove,1,[s,1-s]) for s in np.arange(0,1.1,.1)]"
     ],
     "language": "python",
     "metadata": {},
     "outputs": [],
     "prompt_number": 4
    },
    {
     "cell_type": "code",
     "collapsed": false,
     "input": [
      "delta_w = np.subtract(hawk,dove)"
     ],
     "language": "python",
     "metadata": {},
     "outputs": [],
     "prompt_number": 5
    },
    {
     "cell_type": "code",
     "collapsed": false,
     "input": [
      "##This notebook shows a 2 x 2 game with several plots \n",
      "fig = plt.figure()\n",
      "axes1 = fig.add_axes([0.1, 0.1, 0.8, 0.8])\n",
      "x = np.arange(0,1.1,.1)\n",
      "axes1.plot(x,delta_w)\n",
      "one = np.ones(len(x))\n",
      "axes1.plot(x,one)\n",
      "axes1.set_xlabel('Share of Hawks')\n",
      "axes1.set_ylabel('Fitness Hawk - Fitness Dove')\n",
      "axes1.set_title('Relative Fitness vs. Hawk Shares')"
     ],
     "language": "python",
     "metadata": {},
     "outputs": [
      {
       "metadata": {},
       "output_type": "pyout",
       "prompt_number": 6,
       "text": [
        "<matplotlib.text.Text at 0x10709e5d0>"
       ]
      },
      {
       "metadata": {},
       "output_type": "display_data",
       "png": "[encoded data removed]",
       "text": [
        "<matplotlib.figure.Figure at 0x107027f10>"
       ]
      }
     ],
     "prompt_number": 6
    },
    {
     "cell_type": "code",
     "collapsed": false,
     "input": [
      "average_fitness = [gf.average_fitness_at_x(hawk_dove,[s,1-s]) for s in x]"
     ],
     "language": "python",
     "metadata": {},
     "outputs": [],
     "prompt_number": 7
    },
    {
     "cell_type": "code",
     "collapsed": false,
     "input": [
      "fig = plt.figure()\n",
      "axes1 = fig.add_axes([0.1, 0.1, 0.8, 0.8])\n",
      "x = np.arange(0,1.1,.1)\n",
      "axes1.plot(x,average_fitness)\n",
      "one = np.zeros(len(x))\n",
      "axes1.plot(x,one)\n",
      "axes1.set_xlabel('Share of Hawks')\n",
      "axes1.set_ylabel('Average Fitness')"
     ],
     "language": "python",
     "metadata": {},
     "outputs": [
      {
       "metadata": {},
       "output_type": "pyout",
       "prompt_number": 8,
       "text": [
        "<matplotlib.text.Text at 0x107178110>"
       ]
      },
      {
       "metadata": {},
       "output_type": "display_data",
       "png": "[encoded data removed]",
       "text": [
        "<matplotlib.figure.Figure at 0x1070876d0>"
       ]
      }
     ],
     "prompt_number": 8
    },
    {
     "cell_type": "code",
     "collapsed": false,
     "input": [
      "##plotting function "
     ],
     "language": "python",
     "metadata": {},
     "outputs": [],
     "prompt_number": 93
    },
    {
     "cell_type": "code",
     "collapsed": false,
     "input": [
      "plt.plot([i for i in range(10)],[i for i in range(10)])"
     ],
     "language": "python",
     "metadata": {},
     "outputs": [
      {
       "metadata": {},
       "output_type": "pyout",
       "prompt_number": 14,
       "text": [
        "[<matplotlib.lines.Line2D at 0x10728d110>]"
       ]
      },
      {
       "metadata": {},
       "output_type": "display_data",
       "png": "[encoded data removed]",
       "text": [
        "<matplotlib.figure.Figure at 0x106f76590>"
       ]
      }
     ],
     "prompt_number": 14
    },
    {
     "cell_type": "code",
     "collapsed": false,
     "input": [
      "##plot \n",
      "def plot_dominant_vs_average():\n",
      "    return 0\n"
     ],
     "language": "python",
     "metadata": {},
     "outputs": [],
     "prompt_number": 10
    },
    {
     "cell_type": "code",
     "collapsed": false,
     "input": [
      "gf.discrete_replicator([.5,.5],hawk_dove,0)"
     ],
     "language": "python",
     "metadata": {},
     "outputs": [
      {
       "metadata": {},
       "output_type": "pyout",
       "prompt_number": 13,
       "text": [
        "0.59999999999999998"
       ]
      }
     ],
     "prompt_number": 13
    },
    {
     "cell_type": "code",
     "collapsed": false,
     "input": [
      "hd= gf.get_interior_equilibrium_two_by_two(hawk_dove)"
     ],
     "language": "python",
     "metadata": {},
     "outputs": [],
     "prompt_number": 38
    },
    {
     "cell_type": "code",
     "collapsed": false,
     "input": [
      "x,y=symbols('x,y')\n",
      "solve(x*hd[0]+y*hd[1]+hd[2])"
     ],
     "language": "python",
     "metadata": {},
     "outputs": [
      {
       "metadata": {},
       "output_type": "pyout",
       "prompt_number": 34,
       "text": [
        "[2/3]"
       ]
      }
     ],
     "prompt_number": 34
    },
    {
     "cell_type": "code",
     "collapsed": false,
     "input": [
      "hd"
     ],
     "language": "python",
     "metadata": {},
     "outputs": [
      {
       "metadata": {},
       "output_type": "pyout",
       "prompt_number": 39,
       "text": [
        "[2/3]"
       ]
      }
     ],
     "prompt_number": 39
    },
    {
     "cell_type": "code",
     "collapsed": false,
     "input": [],
     "language": "python",
     "metadata": {},
     "outputs": []
    }
   ],
   "metadata": {}
  }
 ]
}