{
 "metadata": {
  "name": "",
  "signature": "sha256:efde699fcefa0fcff6d9a729bb44b99a0d7b036d17987a97c539dba12dabf983"
 },
 "nbformat": 3,
 "nbformat_minor": 0,
 "worksheets": [
  {
   "cells": [
    {
     "cell_type": "code",
     "collapsed": false,
     "input": [
      "import numpy as np\n",
      "from sympy import *\n",
      "from sympy.parsing.sympy_parser import parse_expr\n",
      "import essential_game_functionality\n",
      "import replicator\n",
      "reload(essential_game_functionality)\n",
      "reload(replicator)\n",
      "from IPython.display import Latex\n",
      "from IPython.display import Math"
     ],
     "language": "python",
     "metadata": {},
     "outputs": [],
     "prompt_number": 19
    },
    {
     "cell_type": "markdown",
     "metadata": {},
     "source": [
      "Introduction \n",
      "===============\n",
      "\n",
      "We present this game through two choices that are available to consumers: the decision to pay or not to pay. "
     ]
    },
    {
     "cell_type": "markdown",
     "metadata": {},
     "source": [
      "Basic Equations\n",
      "---------------\n",
      "\n",
      "Ultimately a consumer must decide whether it is in their best interest to steal or to pay. To model this decision we first consider the costs of either choice. \n",
      "\n",
      "Let $c_p$ be the cost of paying, it's units are USD/kWh. \n",
      "\n",
      "Let $c_s$ be the cost of stealing. We say that $c_s = k\\ast f$, where $k$ is the frequency with which a person is caught and $f$ is the fine that they receive. \n",
      "\n",
      "In order to compare these units we choose the cost of paying as the bill amount and divide $c_s$ by the billing cycle, $bc$. "
     ]
    },
    {
     "cell_type": "markdown",
     "metadata": {},
     "source": [
      "Player Interactions\n",
      "-------------------\n",
      "INSERT TEXT FROM PAPER\n",
      "\n",
      "\\begin{equation*}\\begin{matrix} ~ & S & P \\\\ S & c_s \\ast (k+c)/bc & c_s \\\\  P & c_p+p_i & c_p \\end{matrix} \\end{equation*}\n"
     ]
    },
    {
     "cell_type": "markdown",
     "metadata": {},
     "source": [
      "Social Norms\n",
      "-------------------\n",
      "\n",
      "INSERT FROM PAPER"
     ]
    },
    {
     "cell_type": "markdown",
     "metadata": {},
     "source": [
      "Spatial Dynamics\n",
      "----------------\n",
      "\n",
      "INSERT FROM PAPER"
     ]
    },
    {
     "cell_type": "markdown",
     "metadata": {},
     "source": [
      "Case Study - South Africa\n",
      "=========================\n",
      "\n",
      "Using data from South Africa we attempt to estimate the values for the various parameters. "
     ]
    },
    {
     "cell_type": "markdown",
     "metadata": {},
     "source": [
      "Basic Equations\n",
      "---------------\n",
      "From the world bank "
     ]
    },
    {
     "cell_type": "code",
     "collapsed": false,
     "input": [],
     "language": "python",
     "metadata": {},
     "outputs": []
    }
   ],
   "metadata": {}
  }
 ]
}