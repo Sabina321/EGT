{
 "metadata": {
  "name": "",
  "signature": "sha256:82e5e06577ceef54a99f6d7699541c642cb72f7633b6292a9f42807c65d9c165"
 },
 "nbformat": 3,
 "nbformat_minor": 0,
 "worksheets": [
  {
   "cells": [
    {
     "cell_type": "code",
     "collapsed": false,
     "input": [
      "##\n",
      "import sympy\n",
      "##\n",
      "import numpy as np\n",
      "##\n",
      "import matplotlib.pyplot as plt\n",
      "##\n",
      "%matplotlib inline\n",
      "##\n",
      "import essential_game_functionality\n",
      "##\n",
      "reload(essential_game_functionality)\n",
      "##\n",
      "import essential_game_functionality as gf\n",
      "from IPython.display import Latex\n",
      "import pandas as pd\n",
      "from sympy import symbols, var"
     ],
     "language": "python",
     "metadata": {},
     "outputs": [
      {
       "output_type": "stream",
       "stream": "stderr",
       "text": [
        "/Users/sabina/anaconda/lib/python2.7/site-packages/pandas/io/excel.py:626: UserWarning: Installed openpyxl is not supported at this time. Use >=1.6.1 and <2.0.0.\n",
        "  .format(openpyxl_compat.start_ver, openpyxl_compat.stop_ver))\n"
       ]
      }
     ],
     "prompt_number": 1
    },
    {
     "cell_type": "code",
     "collapsed": false,
     "input": [
      "##keep this\n",
      "df = pd.read_csv('payrates.csv')\n",
      "df=df.set_index('Year')"
     ],
     "language": "python",
     "metadata": {},
     "outputs": [],
     "prompt_number": 2
    },
    {
     "cell_type": "code",
     "collapsed": false,
     "input": [
      "##add losses\n",
      "df = pd.read_csv('payrates.csv')\n",
      "df=df.set_index('Year')\n",
      "df['Mexico ']"
     ],
     "language": "python",
     "metadata": {},
     "outputs": [
      {
       "metadata": {},
       "output_type": "pyout",
       "prompt_number": 5,
       "text": [
        "Year\n",
        "2001    0.075\n",
        "2002    0.092\n",
        "2003    0.091\n",
        "2004    0.090\n",
        "2005    0.097\n",
        "2006    0.101\n",
        "2007    0.093\n",
        "2008    0.096\n",
        "Name: Mexico , dtype: float64"
       ]
      }
     ],
     "prompt_number": 5
    },
    {
     "cell_type": "code",
     "collapsed": false,
     "input": [
      "fig = plt.figure()\n",
      "axes1 = fig.add_axes([0.1, 0.1, 0.8, 0.8])\n",
      "#x values transmission losses array \n",
      "#y values df['Mexico ']\n",
      "#axes1.plot(x values,df['Mexico '])"
     ],
     "language": "python",
     "metadata": {},
     "outputs": [
      {
       "metadata": {},
       "output_type": "pyout",
       "prompt_number": 6,
       "text": [
        "[<matplotlib.lines.Line2D at 0x1090919d0>]"
       ]
      },
      {
       "metadata": {},
       "output_type": "display_data",
       "png": "[encoded data removed]",
       "text": [
        "<matplotlib.figure.Figure at 0x109119ed0>"
       ]
      }
     ],
     "prompt_number": 6
    },
    {
     "cell_type": "code",
     "collapsed": false,
     "input": [],
     "language": "python",
     "metadata": {},
     "outputs": []
    }
   ],
   "metadata": {}
  }
 ]
}