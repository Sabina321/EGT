{
 "metadata": {
  "name": "",
  "signature": "sha256:84dde43893eb0b48d3cf39d629551ba613dbd96609f46919701a0f5027972cc1"
 },
 "nbformat": 3,
 "nbformat_minor": 0,
 "worksheets": [
  {
   "cells": [
    {
     "cell_type": "code",
     "collapsed": false,
     "input": [
      "###All taken from: \n",
      "##https://datasciencelab.wordpress.com/2014/01/03/yet-another-game-of-life/\n",
      "##http://jakevdp.github.io/blog/2013/05/12/embedding-matplotlib-animations/"
     ],
     "language": "python",
     "metadata": {},
     "outputs": [],
     "prompt_number": 18
    },
    {
     "cell_type": "code",
     "collapsed": false,
     "input": [
      "%pylab inline\n",
      "from matplotlib import animation\n",
      "from IPython.display import HTML\n",
      "from tempfile import NamedTemporaryFile"
     ],
     "language": "python",
     "metadata": {},
     "outputs": [
      {
       "output_type": "stream",
       "stream": "stdout",
       "text": [
        "Populating the interactive namespace from numpy and matplotlib\n"
       ]
      }
     ],
     "prompt_number": 15
    },
    {
     "cell_type": "code",
     "collapsed": false,
     "input": [
      "VIDEO_TAG = \"\"\"<video controls>\n",
      " <source src=\"data:video/x-m4v;base64,{0}\" type=\"video/mp4\">\n",
      " Your browser does not support the video tag.\n",
      "</video>\"\"\""
     ],
     "language": "python",
     "metadata": {},
     "outputs": [],
     "prompt_number": 16
    },
    {
     "cell_type": "code",
     "collapsed": false,
     "input": [
      "def init_universe(rows, cols):\n",
      "    grid = np.zeros([rows, cols])\n",
      "    for i in range(rows):\n",
      "        for j in range(cols):\n",
      "            grid[i][j] = round(random.random())\n",
      "    return grid"
     ],
     "language": "python",
     "metadata": {},
     "outputs": [],
     "prompt_number": 2
    },
    {
     "cell_type": "code",
     "collapsed": false,
     "input": [
      "grid = init_universe(20,30)\n",
      "ax = plt.axes()\n",
      "ax.matshow(grid,cmap=cm.binary)\n",
      "ax.set_axis_off()"
     ],
     "language": "python",
     "metadata": {},
     "outputs": [
      {
       "metadata": {},
       "output_type": "display_data",
       "png": "[encoded data removed]",
       "text": [
        "<matplotlib.figure.Figure at 0x107a05cd0>"
       ]
      }
     ],
     "prompt_number": 3
    },
    {
     "cell_type": "code",
     "collapsed": false,
     "input": [
      "def evolve(grid, pars):\n",
      "    overcrowd, underpop, reproduction = pars\n",
      "    rows, cols = grid.shape\n",
      "    newgrid = np.zeros([rows, cols])\n",
      "    neighbors = np.zeros([rows,cols])\n",
      "    # Auxiliary padded grid\n",
      "    padboard = np.zeros([rows+2, cols+2])\n",
      "    padboard[:-2,:-2] = grid\n",
      "    # Compute neighbours and newgrid\n",
      "    for i in range(rows):\n",
      "        for j in range(cols):\n",
      "            neighbors[i][j] += sum([padboard[a][b] for a in [i-1, i, i+1] \\\n",
      "                                    for b in [j-1, j, j+1]])\n",
      "            neighbors[i][j] -= padboard[i][j]\n",
      "            # Evolution logic\n",
      "            newgrid[i][j] = grid[i][j]\n",
      "            if grid[i][j] and \\\n",
      "               (neighbors[i][j] > overcrowd or neighbors[i][j] < underpop):\n",
      "                newgrid[i][j] = 0\n",
      "            elif not grid[i][j] and neighbors[i][j] == reproduction:\n",
      "                newgrid[i][j] = 1\n",
      "    return newgrid"
     ],
     "language": "python",
     "metadata": {},
     "outputs": [],
     "prompt_number": 4
    },
    {
     "cell_type": "code",
     "collapsed": false,
     "input": [
      "pars = 3, 2, 3\n",
      "rows, cols = 20, 20\n",
      "fig = plt.figure()\n",
      "ax = plt.axes()\n",
      "im = ax.matshow(init_universe(rows,cols),cmap=cm.binary)\n",
      "ax.set_axis_off()"
     ],
     "language": "python",
     "metadata": {},
     "outputs": [
      {
       "metadata": {},
       "output_type": "display_data",
       "png": "[encoded data removed]",
       "text": [
        "<matplotlib.figure.Figure at 0x107a49550>"
       ]
      }
     ],
     "prompt_number": 5
    },
    {
     "cell_type": "code",
     "collapsed": false,
     "input": [
      "def init():\n",
      "    im.set_data(init_universe(rows, cols))"
     ],
     "language": "python",
     "metadata": {},
     "outputs": [],
     "prompt_number": 6
    },
    {
     "cell_type": "code",
     "collapsed": false,
     "input": [
      "def animate(i):\n",
      "    a = im.get_array()\n",
      "    a = evolve(a, pars)\n",
      "    im.set_array(a)\n",
      "    return [im]"
     ],
     "language": "python",
     "metadata": {},
     "outputs": [],
     "prompt_number": 7
    },
    {
     "cell_type": "code",
     "collapsed": false,
     "input": [
      "def anim_to_html(anim):\n",
      "    if not hasattr(anim, '_encoded_video'):\n",
      "        with NamedTemporaryFile(suffix='.mp4') as f:\n",
      "            anim.save(f.name, fps=20, extra_args=['-vcodec', 'libx264'])\n",
      "            video = open(f.name, \"rb\").read()\n",
      "        anim._encoded_video = video.encode(\"base64\")\n",
      "    \n",
      "    return VIDEO_TAG.format(anim._encoded_video)"
     ],
     "language": "python",
     "metadata": {},
     "outputs": [],
     "prompt_number": 13
    },
    {
     "cell_type": "code",
     "collapsed": false,
     "input": [
      "anim = animation.FuncAnimation(fig, animate, init_func=init, frames=100, blit=True)"
     ],
     "language": "python",
     "metadata": {},
     "outputs": [],
     "prompt_number": 8
    },
    {
     "cell_type": "code",
     "collapsed": false,
     "input": [
      "anim.save('animation_random.mp4', fps=10) # fps = FramesPerSecond"
     ],
     "language": "python",
     "metadata": {},
     "outputs": [],
     "prompt_number": 9
    },
    {
     "cell_type": "code",
     "collapsed": false,
     "input": [
      "def display_animation(anim):\n",
      "    plt.close(anim._fig)\n",
      "    return HTML(anim_to_html(anim))"
     ],
     "language": "python",
     "metadata": {},
     "outputs": [],
     "prompt_number": 11
    },
    {
     "cell_type": "code",
     "collapsed": false,
     "input": [
      "display_animation(anim)"
     ],
     "language": "python",
     "metadata": {},
     "outputs": [
      {
       "html": [
        "<video controls>\n",
        " <source src=\"data:video/x-m4v;base64,AAAAIGZ0eXBpc29tAAACAGlzb21pc28yYXZjMW1wNDEAAAAIZnJlZQAAE99tZGF0AAACrQYF//+p\n",
        "3EXpvebZSLeWLNgg2SPu73gyNjQgLSBjb3JlIDE0MiByMjQzOCBhZjhlNzY4IC0gSC4yNjQvTVBF\n",
        "Ry00IEFWQyBjb2RlYyAtIENvcHlsZWZ0IDIwMDMtMjAxNCAtIGh0dHA6Ly93d3cudmlkZW9sYW4u\n",
        "b3JnL3gyNjQuaHRtbCAtIG9wdGlvbnM6IGNhYmFjPTEgcmVmPTMgZGVibG9jaz0xOjA6MCBhbmFs\n",
        "eXNlPTB4MzoweDExMyBtZT1oZXggc3VibWU9NyBwc3k9MSBwc3lfcmQ9MS4wMDowLjAwIG1peGVk\n",
        "X3JlZj0xIG1lX3JhbmdlPTE2IGNocm9tYV9tZT0xIHRyZWxsaXM9MSA4eDhkY3Q9MSBjcW09MCBk\n",
        "ZWFkem9uZT0yMSwxMSBmYXN0X3Bza2lwPTEgY2hyb21hX3FwX29mZnNldD00IHRocmVhZHM9NiBs\n",
        "b29rYWhlYWRfdGhyZWFkcz0xIHNsaWNlZF90aHJlYWRzPTAgbnI9MCBkZWNpbWF0ZT0xIGludGVy\n",
        "bGFjZWQ9MCBibHVyYXlfY29tcGF0PTAgY29uc3RyYWluZWRfaW50cmE9MCBiZnJhbWVzPTMgYl9w\n",
        "eXJhbWlkPTIgYl9hZGFwdD0xIGJfYmlhcz0wIGRpcmVjdD0xIHdlaWdodGI9MSBvcGVuX2dvcD0w\n",
        "IHdlaWdodHA9MiBrZXlpbnQ9MjUwIGtleWludF9taW49MjAgc2NlbmVjdXQ9NDAgaW50cmFfcmVm\n",
        "cmVzaD0wIHJjX2xvb2thaGVhZD00MCByYz1jcmYgbWJ0cmVlPTEgY3JmPTIzLjAgcWNvbXA9MC42\n",
        "MCBxcG1pbj0wIHFwbWF4PTY5IHFwc3RlcD00IGlwX3JhdGlvPTEuNDAgYXE9MToxLjAwAIAAAAGN\n",
        "ZYiEAD///vcj/AptaQ43T//c/41brlWpIDI+AAAKU9gLcYgBbnrvpGfcGKMYQ35GyMFhR7e98Z1w\n",
        "3OKpf7S/cwOhI4vbCsFN/EDM2kYUFdUD/+rLHojKF809Cb0RtbksFBVXNudJBlhJoVaarVHr0x7k\n",
        "LrXwqMWI7WHNHSfTidmWZHo8M6HtNw6QTVsoybkcWC6b7VjXWbYig0CUhhvW9F9Cbx9aNDJ2rz0/\n",
        "IVyRzdEPrfiyPYNf/uNtu5p9Ewi4dBumEz3I6/NPLapr6xL4z2qxa6ZQGyiG92b9p4nedKFYxJhx\n",
        "OmZ5r7QAAAMCng9Sjo5BBmvxo31mmCDKEAnNmgvaUKyhiApUAXnYf+f4KkfSH++SVYS37ql1kNyj\n",
        "nQOfL0Nv5UzlAIyAAAAfuA2oOZx0fELP5JZXRBh7mUXEvH/SlCJN7DvQRIxIW25xdrMM1oVT0hWu\n",
        "dh3t1AQ0gMkm43+teXJm1BFf/JEaAAwmgrKsO+ed55+oHmfWKxNtsbLrHYKX04AAAAMAAAMCYwAA\n",
        "AR5BmiRsQ//+qZYCVlNgWwABNAdkADFnIw+W7zUAAyP+XaV/oSPQQUF2eDWfU5phmQ3/9YVh1otX\n",
        "zCiGNJGmvuMREYI1+Bc2foW9cTBk1QgFuqW34oKdVPcxZGb9+ae7Ak2w/d2Ix+RkcKFkYkYvKDi7\n",
        "fYgibW0M6Pj5D+DCv24D57YRF3K7jws8tlTnrjZef0/saLoeqWn9+N1lYbcpSg2h19pChFoRINXT\n",
        "iOKzmt4b1mgZItIOa58SRL3tZOcjqMoQrJgWDM3+fbZjycDxnxuxIovGmSnII+l6QiQ9kVkYEus0\n",
        "ipem1PGj2seLPUvIH6JIGYsjjdbZ6pAGWHe1023hEh15Z2l2S5dTtN3/6mGt1zvIAMAaHCL+VgPs\n",
        "YFxAAAAAXUGeQniGfwELT7h7VMQ7Sxo8HrVriIIBrOJ8FjNPD6IEBw7OiHOi6Ac9ptsqvx3moK/9\n",
        "Q5UpjPLrVlm2Dxe7gF1V//teZqr2CTGI89SOOep+FdMpz6duwBbDkREi4QAAACIBnmF0Qr8B634r\n",
        "EjXwDKIqdgjEZffm//YhZ8FI8yaPMkEjAAAAKwGeY2pCvwHsbQjQAt0KBAYuxXscprpWSoo+2Fq4\n",
        "wRag2B/Kv8k4jGc8DukAAABUQZpoSahBaJlMCH///qmWAjFG/+g54te5nf/im9zD19pSld7LuBhK\n",
        "902sHPy7fZzKBCsv+uU0nxR6W5813vyHfsdz0mCob98asntzyWhPsN/rwOqBAAAANUGehkURLDP/\n",
        "AQuX5JABChvtSufSbFUqOt1axp0EDwhQJFp+tma3f+3mESA4Yr4jYfCkXkTBAAAAIwGepXRCvwHr\n",
        "ZB4wIGpeX5GNF0dj0KRfDSOaaodo1uusSGzBAAAAIAGep2pCvwHrtl6CECLVWu40jbn7WBqLT9xv\n",
        "m6NOhmLaAAAAKkGarEmoQWyZTAh///6plgJW7Yu2eZVGHQz9nsKyNBL0BgGXzFEHhgBJwAAAACNB\n",
        "nspFFSwz/wELQJFS6f3MUnwHa8CZd+N2vB4Tf4TAFcRIuQAAABwBnul0Qr8B6+fKkjfMjKX9UOUr\n",
        "Gf0P8/Ti4IGAAAAAHQGe62pCvwHsH5WK7ziSKN9wiQ02iDRI4pxqt9LuAAAAKUGa8EmoQWyZTAh/\n",
        "//6plgJW7YaxyDwumLyMORPdFmN+Uy+1TzmtawLjAAAAH0GfDkUVLDP/AQtTLz0itreZPz/9o08r\n",
        "GZciOQrNQ1MAAAAcAZ8tdEK/AeuA4knMXqSH4HkfK5APdCK8E5D7gQAAABwBny9qQr8B7GgseutW\n",
        "Q2LWTjtwfAqBSNaOdggYAAAAJkGbNEmoQWyZTAh///6plgCg3Jq/WCLmOOW7O9y6acUdxqruDBVw\n",
        "AAAAH0GfUkUVLDP/AQuV/eYj3bCVM6F2LRpRCFN0tMqKcW0AAAAcAZ9xdEK/AexEWpKHSZl5Y8fy\n",
        "nmuHDhHaCFyggAAAABwBn3NqQr8B67ZkbZoij0S1KQ7Mc9/EDqCEWCGLAAAAKkGbeEmoQWyZTAh/\n",
        "//6plgJW7Yu2eZTnsHOZWZfkxFU+bVp72y4rmfABJwAAACBBn5ZFFSwz/wELgfeIRmZOXZtSEEd+\n",
        "Nod9yRe5OSJFwAAAABwBn7V0Qr8B6+fKkjfMjKX9UOUrGf0P8/Ti4IGBAAAAHAGft2pCvwHsH5WK\n",
        "7ziSKN9wiQ0yJ+bAcY2vQ1MAAAAnQZu8SahBbJlMCH///qmWAlbthrHIPC6Xo1+giwwEAKbE312t\n",
        "awLiAAAAH0Gf2kUVLDP/AQtTLz0itreZPz/9pTNEe8ieCYBohqUAAAAcAZ/5dEK/AeuA4knMXqSH\n",
        "4HkfK5APdCK8E5D7gAAAABwBn/tqQr8B7GgseutWQ2LWTjtwfAqBSNaOdggZAAAAJkGb4EmoQWyZ\n",
        "TAh///6plgCg3Jq/WCLmOOW7O9y6acUdxqruDBVxAAAAH0GeHkUVLDP/AQuV/eYj3bCVM6F2LRpR\n",
        "CFN0tMqKcW0AAAAcAZ49dEK/AexEWpKHSZl5Y8fynmuHDhHaCFyggAAAABwBnj9qQr8B67ZkbZoi\n",
        "j0S1KQ7Mc9/EDqCEWCGLAAAAKkGaJEmoQWyZTAh///6plgJW7Yu2eZTnsHOZWZfkxFU+bVp72y4r\n",
        "mfABJwAAACBBnkJFFSwz/wELgfeIRmZOXZtSEEd+Nod9yRe5OSJFwQAAABwBnmF0Qr8B6+fKkjfM\n",
        "jKX9UOUrGf0P8/Ti4IGAAAAAHAGeY2pCvwHsH5WK7ziSKN9wiQ0yJ+bAcY2vQ1MAAAAnQZpoSahB\n",
        "bJlMCH///qmWAlbthrHIPC6Xo1+giwwEAKbE312tawLjAAAAH0GehkUVLDP/AQtTLz0itreZPz/9\n",
        "pTNEe8ieCYBohqUAAAAcAZ6ldEK/AeuA4knMXqSH4HkfK5APdCK8E5D7gQAAABwBnqdqQr8B7Ggs\n",
        "eutWQ2LWTjtwfAqBSNaOdggYAAAAJkGarEmoQWyZTAh///6plgCg3Jq/WCLmOOW7O9y6acUdxqru\n",
        "DBVwAAAAH0GeykUVLDP/AQuV/eYj3bCVM6F2LRpRCFN0tMqKcW0AAAAcAZ7pdEK/AexEWpKHSZl5\n",
        "Y8fynmuHDhHaCFyggAAAABwBnutqQr8B67ZkbZoij0S1KQ7Mc9/EDqCEWCGLAAAAKkGa8EmoQWyZ\n",
        "TAh///6plgJW7Yu2eZTnsHOZWZfkxFU+bVp72y4rmfABJwAAACBBnw5FFSwz/wELgfeIRmZOXZtS\n",
        "EEd+Nod9yRe5OSJFwQAAABwBny10Qr8B6+fKkjfMjKX9UOUrGf0P8/Ti4IGBAAAAHAGfL2pCvwHs\n",
        "H5WK7ziSKN9wiQ0yJ+bAcY2vQ1IAAAAnQZs0SahBbJlMCH///qmWAlbthrHIPC6Xo1+giwwEAKbE\n",
        "312tawLiAAAAH0GfUkUVLDP/AQtTLz0itreZPz/9pTNEe8ieCYBohqUAAAAcAZ9xdEK/AeuA4knM\n",
        "XqSH4HkfK5APdCK8E5D7gAAAABwBn3NqQr8B7GgseutWQ2LWTjtwfAqBSNaOdggYAAAAJkGbeEmo\n",
        "QWyZTAh///6plgCg3Jq/WCLmOOW7O9y6acUdxqruDBVxAAAAH0GflkUVLDP/AQuV/eYj3bCVM6F2\n",
        "LRpRCFN0tMqKcW0AAAAcAZ+1dEK/AexEWpKHSZl5Y8fynmuHDhHaCFyggQAAABwBn7dqQr8B67Zk\n",
        "bZoij0S1KQ7Mc9/EDqCEWCGLAAAAKkGbvEmoQWyZTAh///6plgJW7Yu2eZTnsHOZWZfkxFU+bVp7\n",
        "2y4rmfABJwAAACBBn9pFFSwz/wELgfeIRmZOXZtSEEd+Nod9yRe5OSJFwQAAABwBn/l0Qr8B6+fK\n",
        "kjfMjKX9UOUrGf0P8/Ti4IGAAAAAHAGf+2pCvwHsH5WK7ziSKN9wiQ0yJ+bAcY2vQ1MAAAAnQZvg\n",
        "SahBbJlMCH///qmWAlbthrHIPC6Xo1+giwwEAKbE312tawLjAAAAH0GeHkUVLDP/AQtTLz0itreZ\n",
        "Pz/9pTNEe8ieCYBohqQAAAAcAZ49dEK/AeuA4knMXqSH4HkfK5APdCK8E5D7gAAAABwBnj9qQr8B\n",
        "7GgseutWQ2LWTjtwfAqBSNaOdggZAAAAJkGaJEmoQWyZTAh///6plgCg3Jq/WCLmOOW7O9y6acUd\n",
        "xqruDBVwAAAAH0GeQkUVLDP/AQuV/eYj3bCVM6F2LRpRCFN0tMqKcW0AAAAcAZ5hdEK/AexEWpKH\n",
        "SZl5Y8fynmuHDhHaCFyggAAAABwBnmNqQr8B67ZkbZoij0S1KQ7Mc9/EDqCEWCGLAAAAKkGaaEmo\n",
        "QWyZTAh///6plgJW7Yu2eZTnsHOZWZfkxFU+bVp72y4rmfABJwAAACBBnoZFFSwz/wELgfeIRmZO\n",
        "XZtSEEd+Nod9yRe5OSJFwQAAABwBnqV0Qr8B6+fKkjfMjKX9UOUrGf0P8/Ti4IGBAAAAHAGep2pC\n",
        "vwHsH5WK7ziSKN9wiQ0yJ+bAcY2vQ1IAAAAnQZqsSahBbJlMCH///qmWAlbthrHIPC6Xo1+giwwE\n",
        "AKbE312tawLiAAAAH0GeykUVLDP/AQtTLz0itreZPz/9pTNEe8ieCYBohqUAAAAcAZ7pdEK/AeuA\n",
        "4knMXqSH4HkfK5APdCK8E5D7gAAAABwBnutqQr8B7GgseutWQ2LWTjtwfAqBSNaOdggYAAAAJkGa\n",
        "8EmoQWyZTAh///6plgCg3Jq/WCLmOOW7O9y6acUdxqruDBVxAAAAH0GfDkUVLDP/AQuV/eYj3bCV\n",
        "M6F2LRpRCFN0tMqKcW0AAAAcAZ8tdEK/AexEWpKHSZl5Y8fynmuHDhHaCFyggQAAABwBny9qQr8B\n",
        "67ZkbZoij0S1KQ7Mc9/EDqCEWCGLAAAAKkGbNEmoQWyZTAh///6plgJW7Yu2eZTnsHOZWZfkxFU+\n",
        "bVp72y4rmfABJwAAACBBn1JFFSwz/wELgfeIRmZOXZtSEEd+Nod9yRe5OSJFwQAAABwBn3F0Qr8B\n",
        "6+fKkjfMjKX9UOUrGf0P8/Ti4IGAAAAAHAGfc2pCvwHsH5WK7ziSKN9wiQ0yJ+bAcY2vQ1IAAAAo\n",
        "QZt4SahBbJlMCHf//qmWAlbG6FVxetDgHj6KxIR2imMkvXYr+1gXEQAAAB9Bn5ZFFSwz/wELUy89\n",
        "Ira3mT8//aUzRHvIngmAaIakAAAAHAGftXRCvwHrgOJJzF6kh+B5HyuQD3QivBOQ+4EAAAAcAZ+3\n",
        "akK/AexoLHrrVkNi1k47cHwKgUjWjnYIGQAAACZBm7xJqEFsmUwId//+qZYAoNyot41Ibqsr7u9P\n",
        "0uId/IN0KGD0gAAAAB9Bn9pFFSwz/wELlf3mI92wlTOhdi0aUQhTdLTKinFtAAAAHAGf+XRCvwHs\n",
        "RFqSh0mZeWPH8p5rhw4R2ghcoIAAAAAcAZ/7akK/Aeu2ZG2aIo9EtSkOzHPfxA6ghFghiwAAACpB\n",
        "m+BJqEFsmUwIb//+p4QElUcw+05LBB102d2Grpjn0597hleH1G/oNqEAAAAgQZ4eRRUsM/8BC4H3\n",
        "iEZmTl2bUhBHfjaHfckXuTkiRcAAAAAcAZ49dEK/AevnypI3zIyl/VDlKxn9D/P04uCBgAAAABwB\n",
        "nj9qQr8B7B+Viu84kijfcIkNMifmwHGNr0NTAAAAJkGaJEmoQWyZTAhX//44QD2eqadIPAj+qiMQ\n",
        "J9Oh6mtx7FBawLiAAAAAH0GeQkUVLDP/AQtTLz0itreZPz/9pTNEe8ieCYBohqUAAAAcAZ5hdEK/\n",
        "AeuA4knMXqSH4HkfK5APdCK8E5D7gAAAABwBnmNqQr8B7GgseutWQ2LWTjtwfAqBSNaOdggZAAAH\n",
        "zW1vb3YAAABsbXZoZAAAAAAAAAAAAAAAAAAAA+gAABO6AAEAAAEAAAAAAAAAAAAAAAABAAAAAAAA\n",
        "AAAAAAAAAAAAAQAAAAAAAAAAAAAAAAAAQAAAAAAAAAAAAAAAAAAAAAAAAAAAAAAAAAAAAAAAAAIA\n",
        "AAb3dHJhawAAAFx0a2hkAAAAAwAAAAAAAAAAAAAAAQAAAAAAABO6AAAAAAAAAAAAAAAAAAAAAAAB\n",
        "AAAAAAAAAAAAAAAAAAAAAQAAAAAAAAAAAAAAAAAAQAAAAAGwAAABIAAAAAAAJGVkdHMAAAAcZWxz\n",
        "dAAAAAAAAAABAAATugAABAAAAQAAAAAGb21kaWEAAAAgbWRoZAAAAAAAAAAAAAAAAAAAKAAAAMoA\n",
        "VcQAAAAAAC1oZGxyAAAAAAAAAAB2aWRlAAAAAAAAAAAAAAAAVmlkZW9IYW5kbGVyAAAABhptaW5m\n",
        "AAAAFHZtaGQAAAABAAAAAAAAAAAAAAAkZGluZgAAABxkcmVmAAAAAAAAAAEAAAAMdXJsIAAAAAEA\n",
        "AAXac3RibAAAAJZzdHNkAAAAAAAAAAEAAACGYXZjMQAAAAAAAAABAAAAAAAAAAAAAAAAAAAAAAGw\n",
        "ASAASAAAAEgAAAAAAAAAAQAAAAAAAAAAAAAAAAAAAAAAAAAAAAAAAAAAAAAAAAAAABj//wAAADBh\n",
        "dmNDAfQAFf/hABdn9AAVkZsoNhLQgAAAAwCAAAAUB4sWywEABmjr48RIRAAAABhzdHRzAAAAAAAA\n",
        "AAEAAABlAAACAAAAABRzdHNzAAAAAAAAAAEAAAABAAADOGN0dHMAAAAAAAAAZQAAAAEAAAQAAAAA\n",
        "AQAACgAAAAABAAAEAAAAAAEAAAAAAAAAAQAAAgAAAAABAAAKAAAAAAEAAAQAAAAAAQAAAAAAAAAB\n",
        "AAACAAAAAAEAAAoAAAAAAQAABAAAAAABAAAAAAAAAAEAAAIAAAAAAQAACgAAAAABAAAEAAAAAAEA\n",
        "AAAAAAAAAQAAAgAAAAABAAAKAAAAAAEAAAQAAAAAAQAAAAAAAAABAAACAAAAAAEAAAoAAAAAAQAA\n",
        "BAAAAAABAAAAAAAAAAEAAAIAAAAAAQAACgAAAAABAAAEAAAAAAEAAAAAAAAAAQAAAgAAAAABAAAK\n",
        "AAAAAAEAAAQAAAAAAQAAAAAAAAABAAACAAAAAAEAAAoAAAAAAQAABAAAAAABAAAAAAAAAAEAAAIA\n",
        "AAAAAQAACgAAAAABAAAEAAAAAAEAAAAAAAAAAQAAAgAAAAABAAAKAAAAAAEAAAQAAAAAAQAAAAAA\n",
        "AAABAAACAAAAAAEAAAoAAAAAAQAABAAAAAABAAAAAAAAAAEAAAIAAAAAAQAACgAAAAABAAAEAAAA\n",
        "AAEAAAAAAAAAAQAAAgAAAAABAAAKAAAAAAEAAAQAAAAAAQAAAAAAAAABAAACAAAAAAEAAAoAAAAA\n",
        "AQAABAAAAAABAAAAAAAAAAEAAAIAAAAAAQAACgAAAAABAAAEAAAAAAEAAAAAAAAAAQAAAgAAAAAB\n",
        "AAAKAAAAAAEAAAQAAAAAAQAAAAAAAAABAAACAAAAAAEAAAoAAAAAAQAABAAAAAABAAAAAAAAAAEA\n",
        "AAIAAAAAAQAACgAAAAABAAAEAAAAAAEAAAAAAAAAAQAAAgAAAAABAAAKAAAAAAEAAAQAAAAAAQAA\n",
        "AAAAAAABAAACAAAAAAEAAAoAAAAAAQAABAAAAAABAAAAAAAAAAEAAAIAAAAAAQAACgAAAAABAAAE\n",
        "AAAAAAEAAAAAAAAAAQAAAgAAAAABAAAKAAAAAAEAAAQAAAAAAQAAAAAAAAABAAACAAAAAAEAAAoA\n",
        "AAAAAQAABAAAAAABAAAAAAAAAAEAAAIAAAAAAQAACgAAAAABAAAEAAAAAAEAAAAAAAAAAQAAAgAA\n",
        "AAAcc3RzYwAAAAAAAAABAAAAAQAAAGUAAAABAAABqHN0c3oAAAAAAAAAAAAAAGUAAARCAAABIgAA\n",
        "AGEAAAAmAAAALwAAAFgAAAA5AAAAJwAAACQAAAAuAAAAJwAAACAAAAAhAAAALQAAACMAAAAgAAAA\n",
        "IAAAACoAAAAjAAAAIAAAACAAAAAuAAAAJAAAACAAAAAgAAAAKwAAACMAAAAgAAAAIAAAACoAAAAj\n",
        "AAAAIAAAACAAAAAuAAAAJAAAACAAAAAgAAAAKwAAACMAAAAgAAAAIAAAACoAAAAjAAAAIAAAACAA\n",
        "AAAuAAAAJAAAACAAAAAgAAAAKwAAACMAAAAgAAAAIAAAACoAAAAjAAAAIAAAACAAAAAuAAAAJAAA\n",
        "ACAAAAAgAAAAKwAAACMAAAAgAAAAIAAAACoAAAAjAAAAIAAAACAAAAAuAAAAJAAAACAAAAAgAAAA\n",
        "KwAAACMAAAAgAAAAIAAAACoAAAAjAAAAIAAAACAAAAAuAAAAJAAAACAAAAAgAAAALAAAACMAAAAg\n",
        "AAAAIAAAACoAAAAjAAAAIAAAACAAAAAuAAAAJAAAACAAAAAgAAAAKgAAACMAAAAgAAAAIAAAABRz\n",
        "dGNvAAAAAAAAAAEAAAAwAAAAYnVkdGEAAABabWV0YQAAAAAAAAAhaGRscgAAAAAAAAAAbWRpcmFw\n",
        "cGwAAAAAAAAAAAAAAAAtaWxzdAAAACWpdG9vAAAAHWRhdGEAAAABAAAAAExhdmY1NS40OC4xMDA=\n",
        "\" type=\"video/mp4\">\n",
        " Your browser does not support the video tag.\n",
        "</video>"
       ],
       "metadata": {},
       "output_type": "pyout",
       "prompt_number": 17,
       "text": [
        "<IPython.core.display.HTML at 0x107b83b50>"
       ]
      }
     ],
     "prompt_number": 17
    },
    {
     "cell_type": "code",
     "collapsed": false,
     "input": [],
     "language": "python",
     "metadata": {},
     "outputs": []
    }
   ],
   "metadata": {}
  }
 ]
}