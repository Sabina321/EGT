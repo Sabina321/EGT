{
 "metadata": {
  "name": "",
  "signature": "sha256:fa9bac2d6fb1602de8ece912cea27972805eba2119ee41c6f1f734375ddbfe75"
 },
 "nbformat": 3,
 "nbformat_minor": 0,
 "worksheets": [
  {
   "cells": [
    {
     "cell_type": "code",
     "collapsed": false,
     "input": [
      "from sympy import *\n",
      "import essential_game_functionality \n",
      "from tabulate import tabulate\n",
      "import numpy as np\n",
      "import matplotlib.pyplot as plt\n",
      "import pandas as pd\n",
      "%matplotlib inline\n",
      "init_printing()"
     ],
     "language": "python",
     "metadata": {},
     "outputs": [],
     "prompt_number": 869
    },
    {
     "cell_type": "code",
     "collapsed": false,
     "input": [
      "reload(essential_game_functionality)\n",
      "import essential_game_functionality as egf"
     ],
     "language": "python",
     "metadata": {},
     "outputs": [],
     "prompt_number": 870
    },
    {
     "cell_type": "code",
     "collapsed": false,
     "input": [
      "matrix = egf.set_game([[-1,4],[0,2]])"
     ],
     "language": "python",
     "metadata": {},
     "outputs": [],
     "prompt_number": 166
    },
    {
     "cell_type": "markdown",
     "metadata": {},
     "source": [
      "The other approach is to set up a matrix abstractly, where each entry is an equation rather than set values. The approach for doing that is shown below. \n"
     ]
    },
    {
     "cell_type": "markdown",
     "metadata": {},
     "source": [
      "+ First you must set the variables of interest as symbols\n",
      "\n",
      "In our example we are interested in the following quantities: $c_s, k, c, b_c, c_p,$ and $p_i$"
     ]
    },
    {
     "cell_type": "code",
     "collapsed": false,
     "input": [
      " var('c_s,k,c,b_c,p_i,c_p')"
     ],
     "language": "python",
     "metadata": {},
     "outputs": [
      {
       "latex": [
        "$$\\left ( c_{s}, \\quad k, \\quad c, \\quad b_{c}, \\quad p_{i}, \\quad c_{p}\\right )$$"
       ],
       "metadata": {},
       "output_type": "pyout",
       "png": "[encoded data removed]",
       "prompt_number": 99,
       "text": [
        "(c_s, k, c, b_c, p\u1d62, c_p)"
       ]
      }
     ],
     "prompt_number": 99
    },
    {
     "cell_type": "markdown",
     "metadata": {},
     "source": [
      "+ Next you set the equations for each entry in the matrix\n",
      "\n",
      "In our example the equations of interest are:\n",
      "\n",
      "I want the below here in latex not in its own cell"
     ]
    },
    {
     "cell_type": "code",
     "collapsed": false,
     "input": [
      "Matrix([[c_s*(k+c)/b_c,c_s],[c_p+p_i,c_p]])"
     ],
     "language": "python",
     "metadata": {},
     "outputs": [
      {
       "latex": [
        "$$\\left[\\begin{matrix}\\frac{c_{s}}{b_{c}} \\left(c + k\\right) & c_{s}\\\\c_{p} + p_{i} & c_{p}\\end{matrix}\\right]$$"
       ],
       "metadata": {},
       "output_type": "pyout",
       "png": "[encoded data removed]",
       "prompt_number": 45,
       "text": [
        "\u23a1c_s\u22c5(c + k)     \u23a4\n",
        "\u23a2\u2500\u2500\u2500\u2500\u2500\u2500\u2500\u2500\u2500\u2500\u2500  c_s\u23a5\n",
        "\u23a2    b_c         \u23a5\n",
        "\u23a2                \u23a5\n",
        "\u23a3 c_p + p\u1d62    c_p\u23a6"
       ]
      }
     ],
     "prompt_number": 45
    },
    {
     "cell_type": "code",
     "collapsed": false,
     "input": [
      "game_abstract = egf.set_game_custom([[c_s*(k+c)/b_c,c_s],[c_p+p_i,c_p]],[c_s,k,c,b_c,p_i,c_p])"
     ],
     "language": "python",
     "metadata": {},
     "outputs": [],
     "prompt_number": 114
    },
    {
     "cell_type": "markdown",
     "metadata": {},
     "source": [
      "To update the value stored in one of the matrix entries the subs() method must be called on that entry. For example to change c_s to 3, in the first row and column, and the first row and second column of the game I would do the following: "
     ]
    },
    {
     "cell_type": "code",
     "collapsed": false,
     "input": [
      "egf.set_param_values(game_abstract,c_s,3)"
     ],
     "language": "python",
     "metadata": {},
     "outputs": [
      {
       "latex": [
        "$$\\left [ \\left [ \\frac{1}{b_{c}} \\left(3 c + 3 k\\right), \\quad 3\\right ], \\quad \\left [ c_{p} + p_{i}, \\quad c_{p}\\right ]\\right ]$$"
       ],
       "metadata": {},
       "output_type": "pyout",
       "png": "[encoded data removed]",
       "prompt_number": 162,
       "text": [
        "\u23a1\u23a13\u22c5(c + k)   \u23a4                 \u23a4\n",
        "\u23a2\u23a2\u2500\u2500\u2500\u2500\u2500\u2500\u2500\u2500\u2500, 3\u23a5, [c_p + p\u1d62, c_p]\u23a5\n",
        "\u23a3\u23a3   b_c      \u23a6                 \u23a6"
       ]
      }
     ],
     "prompt_number": 162
    },
    {
     "cell_type": "markdown",
     "metadata": {},
     "source": [
      "With your game set you can now find quantities of interest. For example you may want to see if there is an equilibrium with the initial values that you chose. To do that you can run the function get_interior_equilibrium_two_by_two. For example, we will use our first game. "
     ]
    },
    {
     "cell_type": "code",
     "collapsed": false,
     "input": [
      "shares=egf.get_interior_equilibrium_two_by_two(game_abstract) "
     ],
     "language": "python",
     "metadata": {},
     "outputs": [],
     "prompt_number": 172
    },
    {
     "cell_type": "code",
     "collapsed": false,
     "input": [
      "shares"
     ],
     "language": "python",
     "metadata": {},
     "outputs": [
      {
       "latex": [
        "$$\\left [ \\left \\{ si : \\frac{3 b_{c}}{b_{c} p_{i} + 3 b_{c} - 3 c - 3 k}\\right \\}\\right ]$$"
       ],
       "metadata": {},
       "output_type": "pyout",
       "png": "[encoded data removed]",
       "prompt_number": 173,
       "text": [
        "\u23a1\u23a7              3\u22c5b_c           \u23ab\u23a4\n",
        "\u23a2\u23a8si: \u2500\u2500\u2500\u2500\u2500\u2500\u2500\u2500\u2500\u2500\u2500\u2500\u2500\u2500\u2500\u2500\u2500\u2500\u2500\u2500\u2500\u2500\u2500\u2500\u2500\u2500\u23ac\u23a5\n",
        "\u23a3\u23a9    b_c\u22c5p\u1d62 + 3\u22c5b_c - 3\u22c5c - 3\u22c5k\u23ad\u23a6"
       ]
      }
     ],
     "prompt_number": 173
    },
    {
     "cell_type": "code",
     "collapsed": false,
     "input": [
      "#m = egf.get_mean_over_time([cs,cp],100,.6)\n",
      "#shares  =[x[0] for x in m]    \n",
      "#w_bar = [x[1] for x in m]\n",
      "#times = [x for x in range(len(shares))]"
     ],
     "language": "python",
     "metadata": {},
     "outputs": [],
     "prompt_number": 87
    },
    {
     "cell_type": "code",
     "collapsed": false,
     "input": [
      "def show_plot(results):\n",
      "    fig = plt.figure()\n",
      "    axes1 = fig.add_axes([0.1, 0.1, 0.8, 0.8])\n",
      "    shares = [x[0] for x in results]\n",
      "    times = [x for x in range(len(shares))]\n",
      "    axes1.plot(times,shares)\n",
      "    axes1.set_xlabel('Time')\n",
      "    axes1.set_ylabel('Share of Stealers')\n",
      "    plt.show()"
     ],
     "language": "python",
     "metadata": {},
     "outputs": [],
     "prompt_number": 404
    },
    {
     "cell_type": "code",
     "collapsed": false,
     "input": [],
     "language": "python",
     "metadata": {},
     "outputs": [
      {
       "metadata": {},
       "output_type": "display_data",
       "png": "[encoded data removed]",
       "text": [
        "<matplotlib.figure.Figure at 0x111cd3150>"
       ]
      }
     ],
     "prompt_number": 92
    },
    {
     "cell_type": "code",
     "collapsed": false,
     "input": [
      "def show_plot_mean():\n",
      "    fig = plt.figure()\n",
      "    shares = np.arange(0.1,1.1,.1)\n",
      "    mean = [s*egf.get_cost_stealing(s,k,p_detection,fine,p_pay_fine,bribe,s)+(1-s)*egf.get_value_paying(price,penalty,s,service,use) for s in shares]\n",
      "    axes1 = fig.add_axes([0.1, 0.1, 0.8, 0.8])\n",
      "    #shares = [1-x[0] for x in results]\n",
      "    \n",
      "    \n",
      "    axes1.plot(shares,mean)\n",
      "    axes1.set_xlabel('Share of Stealers')\n",
      "    axes1.set_ylabel('Mean Fitness')\n",
      "    plt.show()"
     ],
     "language": "python",
     "metadata": {},
     "outputs": [],
     "prompt_number": 867
    },
    {
     "cell_type": "code",
     "collapsed": false,
     "input": [
      "show_plot_mean()"
     ],
     "language": "python",
     "metadata": {},
     "outputs": [
      {
       "metadata": {},
       "output_type": "display_data",
       "png": "[encoded data removed]",
       "text": [
        "<matplotlib.figure.Figure at 0x111ee1890>"
       ]
      }
     ],
     "prompt_number": 868
    },
    {
     "cell_type": "code",
     "collapsed": false,
     "input": [
      "reload(essential_game_functionality)\n",
      "import essential_game_functionality as egf"
     ],
     "language": "python",
     "metadata": {},
     "outputs": [],
     "prompt_number": 860
    },
    {
     "cell_type": "code",
     "collapsed": false,
     "input": [
      "def play_with_gamma():\n",
      "    for g in range(0,10,1):\n",
      "        penalty = g/10.0\n",
      "        print penalty\n",
      "        results = egf.get_mean_over_time(time_range, share_stealers, A, k, update_a_at_t, p_detection, fine, p_pay_fine, bribe, price, penalty,  service, use)\n",
      "        #show_plot(results)"
     ],
     "language": "python",
     "metadata": {},
     "outputs": [],
     "prompt_number": 845
    },
    {
     "cell_type": "code",
     "collapsed": false,
     "input": [
      "#play_with_gamma()"
     ],
     "language": "python",
     "metadata": {},
     "outputs": [],
     "prompt_number": 846
    },
    {
     "cell_type": "code",
     "collapsed": false,
     "input": [
      "time_range = 100\n",
      "share_stealers = .23\n",
      "A = .7\n",
      "k= 10\n",
      "update_a_at_t= 1\n",
      "p_detection = .075\n",
      "fine = 650\n",
      "p_pay_fine= 1\n",
      "bribe = 0\n",
      "price = .75\n",
      "penalty = .01\n",
      "service = 0\n",
      "use = 129"
     ],
     "language": "python",
     "metadata": {},
     "outputs": [],
     "prompt_number": 856
    },
    {
     "cell_type": "code",
     "collapsed": false,
     "input": [],
     "language": "python",
     "metadata": {},
     "outputs": [],
     "prompt_number": 856
    },
    {
     "cell_type": "code",
     "collapsed": false,
     "input": [
      "results = egf.get_mean_over_time(time_range, share_stealers, A, k, update_a_at_t, p_detection, fine, p_pay_fine, bribe, price, penalty,  service, use)"
     ],
     "language": "python",
     "metadata": {},
     "outputs": [],
     "prompt_number": 861
    },
    {
     "cell_type": "code",
     "collapsed": false,
     "input": [
      "show_plot_mean(results)"
     ],
     "language": "python",
     "metadata": {},
     "outputs": [
      {
       "metadata": {},
       "output_type": "display_data",
       "png": "[encoded data removed]",
       "text": [
        "<matplotlib.figure.Figure at 0x111d1fa10>"
       ]
      }
     ],
     "prompt_number": 862
    },
    {
     "cell_type": "code",
     "collapsed": false,
     "input": [
      "results"
     ],
     "language": "python",
     "metadata": {},
     "outputs": [
      {
       "metadata": {},
       "output_type": "pyout",
       "prompt_number": 547,
       "text": [
        "array([[  9.00000000e-01,   7.74550000e+02,   1.45000000e+03],\n",
        "       [  8.12794526e-01,   7.52792234e+02,   9.84172414e+02],\n",
        "       [  7.55254564e-01,   7.38436014e+02,   8.58587804e+02],\n",
        "       [  7.15431747e-01,   7.28500221e+02,   8.01409544e+02],\n",
        "       [  6.86951758e-01,   7.21394464e+02,   7.69439583e+02],\n",
        "       [  6.66102637e-01,   7.16192608e+02,   7.49493231e+02],\n",
        "       [  6.50577498e-01,   7.12319086e+02,   7.36186491e+02],\n",
        "       [  6.38869530e-01,   7.09397948e+02,   7.26908232e+02],\n",
        "       [  6.29955637e-01,   7.07173932e+02,   7.20237869e+02],\n",
        "       [  6.23119644e-01,   7.05468351e+02,   7.15336196e+02],\n",
        "       [  6.17847973e-01,   7.04153069e+02,   7.11675964e+02],\n",
        "       [  6.13765211e-01,   7.03134420e+02,   7.08909873e+02],\n",
        "       [  6.10592730e-01,   7.02342886e+02,   7.06800547e+02],\n",
        "       [  6.08121223e-01,   7.01726245e+02,   7.05180953e+02],\n",
        "       [  6.06191942e-01,   7.01244890e+02,   7.03930812e+02],\n",
        "       [  6.04683570e-01,   7.00868551e+02,   7.02961912e+02],\n",
        "       [  6.03502835e-01,   7.00573957e+02,   7.02208613e+02],\n",
        "       [  6.02577685e-01,   7.00343132e+02,   7.01621502e+02],\n",
        "       [  6.01852251e-01,   7.00162137e+02,   7.01163042e+02],\n",
        "       [  6.01283085e-01,   7.00020130e+02,   7.00804509e+02],\n",
        "       [  6.00836319e-01,   6.99908662e+02,   7.00523794e+02],\n",
        "       [  6.00485503e-01,   6.99821133e+02,   7.00303808e+02],\n",
        "       [  6.00209953e-01,   6.99752383e+02,   7.00131290e+02],\n",
        "       [  5.99993473e-01,   6.99698371e+02,   6.99995920e+02],\n",
        "       [  5.99823368e-01,   6.99655930e+02,   6.99889654e+02],\n",
        "       [  5.99689687e-01,   6.99622577e+02,   6.99806205e+02],\n",
        "       [  5.99584619e-01,   6.99596362e+02,   6.99740656e+02],\n",
        "       [  5.99502032e-01,   6.99575757e+02,   6.99689157e+02],\n",
        "       [  5.99437112e-01,   6.99559559e+02,   6.99648689e+02],\n",
        "       [  5.99386077e-01,   6.99546826e+02,   6.99616886e+02],\n",
        "       [  5.99345955e-01,   6.99536816e+02,   6.99591889e+02],\n",
        "       [  5.99314412e-01,   6.99528946e+02,   6.99572241e+02],\n",
        "       [  5.99289613e-01,   6.99522759e+02,   6.99556795e+02],\n",
        "       [  5.99270116e-01,   6.99517894e+02,   6.99544653e+02],\n",
        "       [  5.99254786e-01,   6.99514069e+02,   6.99535108e+02],\n",
        "       [  5.99242734e-01,   6.99511062e+02,   6.99527603e+02],\n",
        "       [  5.99233257e-01,   6.99508698e+02,   6.99521703e+02],\n",
        "       [  5.99225806e-01,   6.99506839e+02,   6.99517064e+02],\n",
        "       [  5.99219948e-01,   6.99505377e+02,   6.99513416e+02],\n",
        "       [  5.99215342e-01,   6.99504228e+02,   6.99510549e+02],\n",
        "       [  5.99211720e-01,   6.99503324e+02,   6.99508294e+02],\n",
        "       [  5.99208873e-01,   6.99502614e+02,   6.99506521e+02],\n",
        "       [  5.99206634e-01,   6.99502055e+02,   6.99505128e+02],\n",
        "       [  5.99204873e-01,   6.99501616e+02,   6.99504032e+02],\n",
        "       [  5.99203489e-01,   6.99501271e+02,   6.99503170e+02],\n",
        "       [  5.99202401e-01,   6.99500999e+02,   6.99502492e+02],\n",
        "       [  5.99201545e-01,   6.99500785e+02,   6.99501960e+02],\n",
        "       [  5.99200872e-01,   6.99500618e+02,   6.99501541e+02],\n",
        "       [  5.99200343e-01,   6.99500486e+02,   6.99501212e+02],\n",
        "       [  5.99199927e-01,   6.99500382e+02,   6.99500953e+02],\n",
        "       [  5.99199600e-01,   6.99500300e+02,   6.99500749e+02],\n",
        "       [  5.99199343e-01,   6.99500236e+02,   6.99500589e+02],\n",
        "       [  5.99199141e-01,   6.99500186e+02,   6.99500463e+02],\n",
        "       [  5.99198982e-01,   6.99500146e+02,   6.99500364e+02],\n",
        "       [  5.99198857e-01,   6.99500115e+02,   6.99500286e+02],\n",
        "       [  5.99198758e-01,   6.99500090e+02,   6.99500225e+02],\n",
        "       [  5.99198681e-01,   6.99500071e+02,   6.99500177e+02],\n",
        "       [  5.99198620e-01,   6.99500056e+02,   6.99500139e+02],\n",
        "       [  5.99198573e-01,   6.99500044e+02,   6.99500109e+02],\n",
        "       [  5.99198535e-01,   6.99500034e+02,   6.99500086e+02],\n",
        "       [  5.99198505e-01,   6.99500027e+02,   6.99500068e+02],\n",
        "       [  5.99198482e-01,   6.99500021e+02,   6.99500053e+02],\n",
        "       [  5.99198464e-01,   6.99500017e+02,   6.99500042e+02],\n",
        "       [  5.99198450e-01,   6.99500013e+02,   6.99500033e+02],\n",
        "       [  5.99198438e-01,   6.99500010e+02,   6.99500026e+02],\n",
        "       [  5.99198429e-01,   6.99500008e+02,   6.99500020e+02],\n",
        "       [  5.99198422e-01,   6.99500006e+02,   6.99500016e+02],\n",
        "       [  5.99198417e-01,   6.99500005e+02,   6.99500013e+02],\n",
        "       [  5.99198413e-01,   6.99500004e+02,   6.99500010e+02],\n",
        "       [  5.99198409e-01,   6.99500003e+02,   6.99500008e+02],\n",
        "       [  5.99198407e-01,   6.99500002e+02,   6.99500006e+02],\n",
        "       [  5.99198405e-01,   6.99500002e+02,   6.99500005e+02],\n",
        "       [  5.99198403e-01,   6.99500002e+02,   6.99500004e+02],\n",
        "       [  5.99198402e-01,   6.99500001e+02,   6.99500003e+02],\n",
        "       [  5.99198401e-01,   6.99500001e+02,   6.99500002e+02],\n",
        "       [  5.99198400e-01,   6.99500001e+02,   6.99500002e+02],\n",
        "       [  5.99198399e-01,   6.99500001e+02,   6.99500001e+02],\n",
        "       [  5.99198399e-01,   6.99500000e+02,   6.99500001e+02],\n",
        "       [  5.99198398e-01,   6.99500000e+02,   6.99500001e+02],\n",
        "       [  5.99198398e-01,   6.99500000e+02,   6.99500001e+02],\n",
        "       [  5.99198398e-01,   6.99500000e+02,   6.99500001e+02],\n",
        "       [  5.99198397e-01,   6.99500000e+02,   6.99500000e+02],\n",
        "       [  5.99198397e-01,   6.99500000e+02,   6.99500000e+02],\n",
        "       [  5.99198397e-01,   6.99500000e+02,   6.99500000e+02],\n",
        "       [  5.99198397e-01,   6.99500000e+02,   6.99500000e+02],\n",
        "       [  5.99198397e-01,   6.99500000e+02,   6.99500000e+02],\n",
        "       [  5.99198397e-01,   6.99500000e+02,   6.99500000e+02],\n",
        "       [  5.99198397e-01,   6.99500000e+02,   6.99500000e+02],\n",
        "       [  5.99198397e-01,   6.99500000e+02,   6.99500000e+02],\n",
        "       [  5.99198397e-01,   6.99500000e+02,   6.99500000e+02],\n",
        "       [  5.99198397e-01,   6.99500000e+02,   6.99500000e+02],\n",
        "       [  5.99198397e-01,   6.99500000e+02,   6.99500000e+02],\n",
        "       [  5.99198397e-01,   6.99500000e+02,   6.99500000e+02],\n",
        "       [  5.99198397e-01,   6.99500000e+02,   6.99500000e+02],\n",
        "       [  5.99198397e-01,   6.99500000e+02,   6.99500000e+02],\n",
        "       [  5.99198397e-01,   6.99500000e+02,   6.99500000e+02],\n",
        "       [  5.99198397e-01,   6.99500000e+02,   6.99500000e+02],\n",
        "       [  5.99198397e-01,   6.99500000e+02,   6.99500000e+02],\n",
        "       [  5.99198397e-01,   6.99500000e+02,   6.99500000e+02],\n",
        "       [  5.99198397e-01,   6.99500000e+02,   6.99500000e+02],\n",
        "       [  5.99198397e-01,   6.99500000e+02,   6.99500000e+02],\n",
        "       [  5.99198397e-01,   6.99500000e+02,   6.99500000e+02],\n",
        "       [  5.99198397e-01,   6.99500000e+02,   6.99500000e+02],\n",
        "       [  5.99198397e-01,   6.99500000e+02,   6.99500000e+02],\n",
        "       [  5.99198397e-01,   6.99500000e+02,   6.99500000e+02],\n",
        "       [  5.99198397e-01,   6.99500000e+02,   6.99500000e+02],\n",
        "       [  5.99198397e-01,   6.99500000e+02,   6.99500000e+02],\n",
        "       [  5.99198397e-01,   6.99500000e+02,   6.99500000e+02],\n",
        "       [  5.99198397e-01,   6.99500000e+02,   6.99500000e+02],\n",
        "       [  5.99198397e-01,   6.99500000e+02,   6.99500000e+02],\n",
        "       [  5.99198397e-01,   6.99500000e+02,   6.99500000e+02],\n",
        "       [  5.99198397e-01,   6.99500000e+02,   6.99500000e+02],\n",
        "       [  5.99198397e-01,   6.99500000e+02,   6.99500000e+02],\n",
        "       [  5.99198397e-01,   6.99500000e+02,   6.99500000e+02],\n",
        "       [  5.99198397e-01,   6.99500000e+02,   6.99500000e+02],\n",
        "       [  5.99198397e-01,   6.99500000e+02,   6.99500000e+02],\n",
        "       [  5.99198397e-01,   6.99500000e+02,   6.99500000e+02],\n",
        "       [  5.99198397e-01,   6.99500000e+02,   6.99500000e+02],\n",
        "       [  5.99198397e-01,   6.99500000e+02,   6.99500000e+02],\n",
        "       [  5.99198397e-01,   6.99500000e+02,   6.99500000e+02],\n",
        "       [  5.99198397e-01,   6.99500000e+02,   6.99500000e+02],\n",
        "       [  5.99198397e-01,   6.99500000e+02,   6.99500000e+02],\n",
        "       [  5.99198397e-01,   6.99500000e+02,   6.99500000e+02],\n",
        "       [  5.99198397e-01,   6.99500000e+02,   6.99500000e+02],\n",
        "       [  5.99198397e-01,   6.99500000e+02,   6.99500000e+02],\n",
        "       [  5.99198397e-01,   6.99500000e+02,   6.99500000e+02],\n",
        "       [  5.99198397e-01,   6.99500000e+02,   6.99500000e+02],\n",
        "       [  5.99198397e-01,   6.99500000e+02,   6.99500000e+02],\n",
        "       [  5.99198397e-01,   6.99500000e+02,   6.99500000e+02],\n",
        "       [  5.99198397e-01,   6.99500000e+02,   6.99500000e+02],\n",
        "       [  5.99198397e-01,   6.99500000e+02,   6.99500000e+02],\n",
        "       [  5.99198397e-01,   6.99500000e+02,   6.99500000e+02],\n",
        "       [  5.99198397e-01,   6.99500000e+02,   6.99500000e+02],\n",
        "       [  5.99198397e-01,   6.99500000e+02,   6.99500000e+02],\n",
        "       [  5.99198397e-01,   6.99500000e+02,   6.99500000e+02],\n",
        "       [  5.99198397e-01,   6.99500000e+02,   6.99500000e+02],\n",
        "       [  5.99198397e-01,   6.99500000e+02,   6.99500000e+02],\n",
        "       [  5.99198397e-01,   6.99500000e+02,   6.99500000e+02],\n",
        "       [  5.99198397e-01,   6.99500000e+02,   6.99500000e+02],\n",
        "       [  5.99198397e-01,   6.99500000e+02,   6.99500000e+02],\n",
        "       [  5.99198397e-01,   6.99500000e+02,   6.99500000e+02],\n",
        "       [  5.99198397e-01,   6.99500000e+02,   6.99500000e+02],\n",
        "       [  5.99198397e-01,   6.99500000e+02,   6.99500000e+02],\n",
        "       [  5.99198397e-01,   6.99500000e+02,   6.99500000e+02],\n",
        "       [  5.99198397e-01,   6.99500000e+02,   6.99500000e+02],\n",
        "       [  5.99198397e-01,   6.99500000e+02,   6.99500000e+02],\n",
        "       [  5.99198397e-01,   6.99500000e+02,   6.99500000e+02],\n",
        "       [  5.99198397e-01,   6.99500000e+02,   6.99500000e+02],\n",
        "       [  5.99198397e-01,   6.99500000e+02,   6.99500000e+02],\n",
        "       [  5.99198397e-01,   6.99500000e+02,   6.99500000e+02],\n",
        "       [  5.99198397e-01,   6.99500000e+02,   6.99500000e+02],\n",
        "       [  5.99198397e-01,   6.99500000e+02,   6.99500000e+02],\n",
        "       [  5.99198397e-01,   6.99500000e+02,   6.99500000e+02],\n",
        "       [  5.99198397e-01,   6.99500000e+02,   6.99500000e+02],\n",
        "       [  5.99198397e-01,   6.99500000e+02,   6.99500000e+02],\n",
        "       [  5.99198397e-01,   6.99500000e+02,   6.99500000e+02],\n",
        "       [  5.99198397e-01,   6.99500000e+02,   6.99500000e+02],\n",
        "       [  5.99198397e-01,   6.99500000e+02,   6.99500000e+02],\n",
        "       [  5.99198397e-01,   6.99500000e+02,   6.99500000e+02],\n",
        "       [  5.99198397e-01,   6.99500000e+02,   6.99500000e+02],\n",
        "       [  5.99198397e-01,   6.99500000e+02,   6.99500000e+02],\n",
        "       [  5.99198397e-01,   6.99500000e+02,   6.99500000e+02],\n",
        "       [  5.99198397e-01,   6.99500000e+02,   6.99500000e+02],\n",
        "       [  5.99198397e-01,   6.99500000e+02,   6.99500000e+02],\n",
        "       [  5.99198397e-01,   6.99500000e+02,   6.99500000e+02],\n",
        "       [  5.99198397e-01,   6.99500000e+02,   6.99500000e+02],\n",
        "       [  5.99198397e-01,   6.99500000e+02,   6.99500000e+02],\n",
        "       [  5.99198397e-01,   6.99500000e+02,   6.99500000e+02],\n",
        "       [  5.99198397e-01,   6.99500000e+02,   6.99500000e+02],\n",
        "       [  5.99198397e-01,   6.99500000e+02,   6.99500000e+02],\n",
        "       [  5.99198397e-01,   6.99500000e+02,   6.99500000e+02],\n",
        "       [  5.99198397e-01,   6.99500000e+02,   6.99500000e+02],\n",
        "       [  5.99198397e-01,   6.99500000e+02,   6.99500000e+02],\n",
        "       [  5.99198397e-01,   6.99500000e+02,   6.99500000e+02],\n",
        "       [  5.99198397e-01,   6.99500000e+02,   6.99500000e+02],\n",
        "       [  5.99198397e-01,   6.99500000e+02,   6.99500000e+02],\n",
        "       [  5.99198397e-01,   6.99500000e+02,   6.99500000e+02],\n",
        "       [  5.99198397e-01,   6.99500000e+02,   6.99500000e+02],\n",
        "       [  5.99198397e-01,   6.99500000e+02,   6.99500000e+02],\n",
        "       [  5.99198397e-01,   6.99500000e+02,   6.99500000e+02],\n",
        "       [  5.99198397e-01,   6.99500000e+02,   6.99500000e+02],\n",
        "       [  5.99198397e-01,   6.99500000e+02,   6.99500000e+02],\n",
        "       [  5.99198397e-01,   6.99500000e+02,   6.99500000e+02],\n",
        "       [  5.99198397e-01,   6.99500000e+02,   6.99500000e+02],\n",
        "       [  5.99198397e-01,   6.99500000e+02,   6.99500000e+02],\n",
        "       [  5.99198397e-01,   6.99500000e+02,   6.99500000e+02],\n",
        "       [  5.99198397e-01,   6.99500000e+02,   6.99500000e+02],\n",
        "       [  5.99198397e-01,   6.99500000e+02,   6.99500000e+02],\n",
        "       [  5.99198397e-01,   6.99500000e+02,   6.99500000e+02],\n",
        "       [  5.99198397e-01,   6.99500000e+02,   6.99500000e+02],\n",
        "       [  5.99198397e-01,   6.99500000e+02,   6.99500000e+02],\n",
        "       [  5.99198397e-01,   6.99500000e+02,   6.99500000e+02],\n",
        "       [  5.99198397e-01,   6.99500000e+02,   6.99500000e+02],\n",
        "       [  5.99198397e-01,   6.99500000e+02,   6.99500000e+02],\n",
        "       [  5.99198397e-01,   6.99500000e+02,   6.99500000e+02],\n",
        "       [  5.99198397e-01,   6.99500000e+02,   6.99500000e+02],\n",
        "       [  5.99198397e-01,   6.99500000e+02,   6.99500000e+02],\n",
        "       [  5.99198397e-01,   6.99500000e+02,   6.99500000e+02],\n",
        "       [  5.99198397e-01,   6.99500000e+02,   6.99500000e+02],\n",
        "       [  5.99198397e-01,   6.99500000e+02,   6.99500000e+02]])"
       ]
      }
     ],
     "prompt_number": 547
    },
    {
     "cell_type": "code",
     "collapsed": false,
     "input": [
      "shares = [.5,.5 ]\n",
      "w=[2,3]\n",
      "egf.replicator(shares,)"
     ],
     "language": "python",
     "metadata": {},
     "outputs": [],
     "prompt_number": 188
    },
    {
     "cell_type": "code",
     "collapsed": false,
     "input": [
      "egf.get_value_paying(1,1,1,0,1)"
     ],
     "language": "python",
     "metadata": {},
     "outputs": [
      {
       "latex": [
        "$$9.9997787828e-13$$"
       ],
       "metadata": {},
       "output_type": "pyout",
       "png": "[encoded data removed]",
       "prompt_number": 630,
       "text": [
        "9.9997787828e-13"
       ]
      }
     ],
     "prompt_number": 630
    },
    {
     "cell_type": "code",
     "collapsed": false,
     "input": [
      "egf.get_cost_stealing(1,10,1,1,1,0,0)"
     ],
     "language": "python",
     "metadata": {},
     "outputs": [
      {
       "latex": [
        "$$0.0909090909091$$"
       ],
       "metadata": {},
       "output_type": "pyout",
       "png": "[encoded data removed]",
       "prompt_number": 631,
       "text": [
        "0.0909090909091"
       ]
      }
     ],
     "prompt_number": 631
    },
    {
     "cell_type": "code",
     "collapsed": false,
     "input": [],
     "language": "python",
     "metadata": {},
     "outputs": []
    }
   ],
   "metadata": {}
  }
 ]
}