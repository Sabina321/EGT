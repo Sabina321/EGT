{
 "metadata": {
  "name": "",
  "signature": "sha256:9bab05d2d8c0c661e606e0697ddb17f3d8f5156c319a774ff2e82630d9987b75"
 },
 "nbformat": 3,
 "nbformat_minor": 0,
 "worksheets": [
  {
   "cells": [
    {
     "cell_type": "code",
     "collapsed": false,
     "input": [
      "import numpy as np\n",
      "from sympy import *\n",
      "from sympy.parsing.sympy_parser import parse_expr\n",
      "reload(essential_game_functionality)\n",
      "reload(replicator)"
     ],
     "language": "python",
     "metadata": {},
     "outputs": [
      {
       "metadata": {},
       "output_type": "pyout",
       "prompt_number": 243,
       "text": [
        "<module 'replicator' from 'replicator.pyc'>"
       ]
      }
     ],
     "prompt_number": 243
    },
    {
     "cell_type": "code",
     "collapsed": false,
     "input": [
      "import essential_game_functionality as gf\n",
      "import replicator"
     ],
     "language": "python",
     "metadata": {},
     "outputs": [],
     "prompt_number": 244
    },
    {
     "cell_type": "code",
     "collapsed": false,
     "input": [
      "#gf.w_i(mat,0,np.array([1,1]))\n",
      "gf.average_fitness_at_x(mat,[1,1])"
     ],
     "language": "python",
     "metadata": {},
     "outputs": [
      {
       "metadata": {},
       "output_type": "pyout",
       "prompt_number": 9,
       "text": [
        "10"
       ]
      }
     ],
     "prompt_number": 9
    },
    {
     "cell_type": "code",
     "collapsed": false,
     "input": [
      "w = np.array([[0,6,-4],[-3,0,5],[-1,3,0]])"
     ],
     "language": "python",
     "metadata": {},
     "outputs": [],
     "prompt_number": 236
    },
    {
     "cell_type": "code",
     "collapsed": false,
     "input": [
      "gf.get_interior_equilibrium_3_by_3(w)"
     ],
     "language": "python",
     "metadata": {},
     "outputs": [
      {
       "metadata": {},
       "output_type": "pyout",
       "prompt_number": 245,
       "text": [
        "[0.33333333333333376, 0.33333333333333298, 0.33333333333333326]"
       ]
      }
     ],
     "prompt_number": 245
    }
   ],
   "metadata": {}
  }
 ]
}