{
 "metadata": {
  "name": "",
  "signature": "sha256:1fdd408a98695aec721def27470c7cf44e3d26d5aacc0caeb0120a148a09c0bb"
 },
 "nbformat": 3,
 "nbformat_minor": 0,
 "worksheets": [
  {
   "cells": [
    {
     "cell_type": "code",
     "collapsed": false,
     "input": [
      "from sympy import *\n",
      "import essential_game_functionality \n",
      "from tabulate import tabulate"
     ],
     "language": "python",
     "metadata": {},
     "outputs": [],
     "prompt_number": 44
    },
    {
     "cell_type": "code",
     "collapsed": false,
     "input": [
      "reload(essential_game_functionality)\n",
      "import essential_game_functionality as egf"
     ],
     "language": "python",
     "metadata": {},
     "outputs": [],
     "prompt_number": 169
    },
    {
     "cell_type": "code",
     "collapsed": false,
     "input": [
      "init_printing()\n",
      "w_aa,w_ab,w_ba,w_bb = symbols('w_aa,w_ab,w_ba,w_bb')\n",
      "matrix = [] "
     ],
     "language": "python",
     "metadata": {},
     "outputs": [],
     "prompt_number": 23
    },
    {
     "cell_type": "markdown",
     "metadata": {},
     "source": [
      "#Two Player Game Interface\n",
      "This notebook displays aspects of interest in 2 player games. \n",
      "\n",
      "A 2 by 2 player game is defined with a matrix with four entries: \n"
     ]
    },
    {
     "cell_type": "code",
     "collapsed": false,
     "input": [
      "game = Matrix([[w_aa,w_ab],[w_ba,w_bb]])\n",
      "##explain what these values are\n",
      "game\n"
     ],
     "language": "python",
     "metadata": {},
     "outputs": [
      {
       "latex": [
        "$$\\left[\\begin{matrix}w_{aa} & w_{ab}\\\\w_{ba} & w_{bb}\\end{matrix}\\right]$$"
       ],
       "metadata": {},
       "output_type": "pyout",
       "png": "[encoded data removed]",
       "prompt_number": 16,
       "text": [
        "\u23a1w\u2090\u2090   w_ab\u23a4\n",
        "\u23a2          \u23a5\n",
        "\u23a3w_ba  w_bb\u23a6"
       ]
      }
     ],
     "prompt_number": 16
    },
    {
     "cell_type": "markdown",
     "metadata": {},
     "source": [
      "A matrix can be set in the following ways: \n",
      "+ The four values of the matrix can be entered in directly by calling the function set_matrix\n",
      "+ The four values can be generated from a function. To use this option a function must be specified and data for evaluating the function must be provided. If no data is provided it is possible to provide a 'guess' and a range and rely on interpolation. \n",
      "\n",
      "Both approaches are outlined below. \n",
      "\n",
      "First we consider initializing a matrix when the fitness values are known. In this case you call egf.set_game($[[w_{aa},w_{ab}],[w_{ba},w_{bb}]]$). For example below $w_{aa}$ is set to 1. "
     ]
    },
    {
     "cell_type": "code",
     "collapsed": false,
     "input": [
      "matrix = egf.set_game([[-1,4],[0,2]])"
     ],
     "language": "python",
     "metadata": {},
     "outputs": [],
     "prompt_number": 166
    },
    {
     "cell_type": "markdown",
     "metadata": {},
     "source": [
      "The other approach is to set up a matrix abstractly, where each entry is an equation rather than set values. The approach for doing that is shown below. \n"
     ]
    },
    {
     "cell_type": "markdown",
     "metadata": {},
     "source": [
      "+ First you must set the variables of interest as symbols\n",
      "\n",
      "In our example we are interested in the following quantities: $c_s, k, c, b_c, c_p,$ and $p_i$"
     ]
    },
    {
     "cell_type": "code",
     "collapsed": false,
     "input": [
      " var('c_s,k,c,b_c,p_i,c_p')"
     ],
     "language": "python",
     "metadata": {},
     "outputs": [
      {
       "latex": [
        "$$\\left ( c_{s}, \\quad k, \\quad c, \\quad b_{c}, \\quad p_{i}, \\quad c_{p}\\right )$$"
       ],
       "metadata": {},
       "output_type": "pyout",
       "png": "[encoded data removed]",
       "prompt_number": 99,
       "text": [
        "(c_s, k, c, b_c, p\u1d62, c_p)"
       ]
      }
     ],
     "prompt_number": 99
    },
    {
     "cell_type": "markdown",
     "metadata": {},
     "source": [
      "+ Next you set the equations for each entry in the matrix\n",
      "\n",
      "In our example the equations of interest are:\n",
      "\n",
      "I want the below here in latex not in its own cell"
     ]
    },
    {
     "cell_type": "code",
     "collapsed": false,
     "input": [
      "Matrix([[c_s*(k+c)/b_c,c_s],[c_p+p_i,c_p]])"
     ],
     "language": "python",
     "metadata": {},
     "outputs": [
      {
       "latex": [
        "$$\\left[\\begin{matrix}\\frac{c_{s}}{b_{c}} \\left(c + k\\right) & c_{s}\\\\c_{p} + p_{i} & c_{p}\\end{matrix}\\right]$$"
       ],
       "metadata": {},
       "output_type": "pyout",
       "png": "[encoded data removed]",
       "prompt_number": 45,
       "text": [
        "\u23a1c_s\u22c5(c + k)     \u23a4\n",
        "\u23a2\u2500\u2500\u2500\u2500\u2500\u2500\u2500\u2500\u2500\u2500\u2500  c_s\u23a5\n",
        "\u23a2    b_c         \u23a5\n",
        "\u23a2                \u23a5\n",
        "\u23a3 c_p + p\u1d62    c_p\u23a6"
       ]
      }
     ],
     "prompt_number": 45
    },
    {
     "cell_type": "code",
     "collapsed": false,
     "input": [
      "game_abstract = egf.set_game_custom([[c_s*(k+c)/b_c,c_s],[c_p+p_i,c_p]],[c_s,k,c,b_c,p_i,c_p])"
     ],
     "language": "python",
     "metadata": {},
     "outputs": [],
     "prompt_number": 114
    },
    {
     "cell_type": "markdown",
     "metadata": {},
     "source": [
      "To update the value stored in one of the matrix entries the subs() method must be called on that entry. For example to change c_s to 3, in the first row and column, and the first row and second column of the game I would do the following: "
     ]
    },
    {
     "cell_type": "code",
     "collapsed": false,
     "input": [
      "egf.set_param_values(game_abstract,c_s,3)"
     ],
     "language": "python",
     "metadata": {},
     "outputs": [
      {
       "latex": [
        "$$\\left [ \\left [ \\frac{1}{b_{c}} \\left(3 c + 3 k\\right), \\quad 3\\right ], \\quad \\left [ c_{p} + p_{i}, \\quad c_{p}\\right ]\\right ]$$"
       ],
       "metadata": {},
       "output_type": "pyout",
       "png": "[encoded data removed]",
       "prompt_number": 162,
       "text": [
        "\u23a1\u23a13\u22c5(c + k)   \u23a4                 \u23a4\n",
        "\u23a2\u23a2\u2500\u2500\u2500\u2500\u2500\u2500\u2500\u2500\u2500, 3\u23a5, [c_p + p\u1d62, c_p]\u23a5\n",
        "\u23a3\u23a3   b_c      \u23a6                 \u23a6"
       ]
      }
     ],
     "prompt_number": 162
    },
    {
     "cell_type": "markdown",
     "metadata": {},
     "source": [
      "With your game set you can now find quantities of interest. For example you may want to see if there is an equilibrium with the initial values that you chose. To do that you can run the function get_interior_equilibrium_two_by_two. For example, we will use our first game. "
     ]
    },
    {
     "cell_type": "code",
     "collapsed": false,
     "input": [
      "shares=egf.get_interior_equilibrium_two_by_two(game_abstract) "
     ],
     "language": "python",
     "metadata": {},
     "outputs": [],
     "prompt_number": 172
    },
    {
     "cell_type": "code",
     "collapsed": false,
     "input": [
      "shares"
     ],
     "language": "python",
     "metadata": {},
     "outputs": [
      {
       "latex": [
        "$$\\left [ \\left \\{ si : \\frac{3 b_{c}}{b_{c} p_{i} + 3 b_{c} - 3 c - 3 k}\\right \\}\\right ]$$"
       ],
       "metadata": {},
       "output_type": "pyout",
       "png": "[encoded data removed]",
       "prompt_number": 173,
       "text": [
        "\u23a1\u23a7              3\u22c5b_c           \u23ab\u23a4\n",
        "\u23a2\u23a8si: \u2500\u2500\u2500\u2500\u2500\u2500\u2500\u2500\u2500\u2500\u2500\u2500\u2500\u2500\u2500\u2500\u2500\u2500\u2500\u2500\u2500\u2500\u2500\u2500\u2500\u2500\u23ac\u23a5\n",
        "\u23a3\u23a9    b_c\u22c5p\u1d62 + 3\u22c5b_c - 3\u22c5c - 3\u22c5k\u23ad\u23a6"
       ]
      }
     ],
     "prompt_number": 173
    },
    {
     "cell_type": "code",
     "collapsed": false,
     "input": [],
     "language": "python",
     "metadata": {},
     "outputs": []
    }
   ],
   "metadata": {}
  }
 ]
}