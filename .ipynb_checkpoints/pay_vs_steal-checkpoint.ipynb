{
 "metadata": {
  "name": "",
  "signature": "sha256:c5b9c3b1aa07521094621e20adce13fe1f74ee7af19f7b4a29f7c60f0b3657da"
 },
 "nbformat": 3,
 "nbformat_minor": 0,
 "worksheets": [
  {
   "cells": [
    {
     "cell_type": "code",
     "collapsed": false,
     "input": [
      "##\n",
      "import sympy\n",
      "##\n",
      "import numpy as np\n",
      "##\n",
      "import matplotlib.pyplot as plt\n",
      "##\n",
      "%matplotlib inline\n",
      "##\n",
      "import essential_game_functionality\n",
      "##\n",
      "reload(essential_game_functionality)\n",
      "##\n",
      "import essential_game_functionality as gf\n",
      "from IPython.display import Latex\n",
      "import pandas as pd\n",
      "from sympy import symbols, var\n",
      "#from ipywidgets import *"
     ],
     "language": "python",
     "metadata": {},
     "outputs": [],
     "prompt_number": 107
    },
    {
     "cell_type": "markdown",
     "metadata": {},
     "source": [
      "##To pay or to steal\n",
      "\n",
      "Without incorporating social information we propose that people will choose to steal or pay depending on which one is awards them the greatest benefit, or more likely the lowest cost. \n",
      "\n",
      "\\begin{aligned}\n",
      "c_s = k * f  / b_c \n",
      "\\end{aligned}\n",
      "\n",
      "Where $k$ is the frequency of detection, $f$ is the fine amount, and $b_c$ is the billing cycle. \n",
      "\n",
      "$c_p$ is the cost of paying in US dollars per kilowatt hours (USD/kWh). \n",
      "\n",
      "Thus we can analyze the basic equations for three countries. "
     ]
    },
    {
     "cell_type": "code",
     "collapsed": false,
     "input": [
      "df = pd.read_csv('payrates.csv')\n",
      "df=df.set_index('Year')\n",
      "\n",
      "##Insert inline citation"
     ],
     "language": "python",
     "metadata": {},
     "outputs": [],
     "prompt_number": 104
    },
    {
     "cell_type": "code",
     "collapsed": false,
     "input": [
      "df['Mexico ']"
     ],
     "language": "python",
     "metadata": {},
     "outputs": [
      {
       "metadata": {},
       "output_type": "pyout",
       "prompt_number": 124,
       "text": [
        "Year\n",
        "2001    0.075\n",
        "2002    0.092\n",
        "2003    0.091\n",
        "2004    0.090\n",
        "2005    0.097\n",
        "2006    0.101\n",
        "2007    0.093\n",
        "2008    0.096\n",
        "Name: Mexico , dtype: float64"
       ]
      }
     ],
     "prompt_number": 124
    },
    {
     "cell_type": "code",
     "collapsed": false,
     "input": [
      "##Show the fine amounts for Mexico and Indonesia "
     ],
     "language": "python",
     "metadata": {},
     "outputs": [],
     "prompt_number": 99
    },
    {
     "cell_type": "code",
     "collapsed": false,
     "input": [
      "c_s,c_p,f,k,bc = symbols('c_s,c_p,f,k,bc')\n",
      "c_p = df['Mexico '][2001]\n",
      "c_s = 213414.729/24"
     ],
     "language": "python",
     "metadata": {},
     "outputs": [],
     "prompt_number": 119
    },
    {
     "cell_type": "code",
     "collapsed": false,
     "input": [
      "#in which years were these higher? if we do the dumb thing and pretend that there are no other variables \n",
      "#can we look at the change in transmission losses and see what we see?\n",
      "#do regression of losses and prices and see directly what is the effect of stealing on prices? "
     ],
     "language": "python",
     "metadata": {},
     "outputs": [],
     "prompt_number": 120
    },
    {
     "cell_type": "markdown",
     "metadata": {},
     "source": [
      "##Player interactions"
     ]
    },
    {
     "cell_type": "code",
     "collapsed": false,
     "input": [],
     "language": "python",
     "metadata": {},
     "outputs": []
    },
    {
     "cell_type": "markdown",
     "metadata": {},
     "source": [
      "##Norms "
     ]
    },
    {
     "cell_type": "markdown",
     "metadata": {},
     "source": [
      "##Evolving Norms"
     ]
    },
    {
     "cell_type": "markdown",
     "metadata": {},
     "source": [
      "##Coevolving with utility companies"
     ]
    },
    {
     "cell_type": "code",
     "collapsed": false,
     "input": [],
     "language": "python",
     "metadata": {},
     "outputs": []
    }
   ],
   "metadata": {}
  }
 ]
}