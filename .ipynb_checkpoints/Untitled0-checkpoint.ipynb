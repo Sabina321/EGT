{
 "metadata": {
  "name": "",
  "signature": "sha256:955b60d3ee7b6e962d313de2febed84697b79aeca497eb486b88d9ea771d244b"
 },
 "nbformat": 3,
 "nbformat_minor": 0,
 "worksheets": [
  {
   "cells": [
    {
     "cell_type": "code",
     "collapsed": false,
     "input": [
      "%pylab inline\n",
      "from random import random\n",
      "import math"
     ],
     "language": "python",
     "metadata": {},
     "outputs": [
      {
       "output_type": "stream",
       "stream": "stdout",
       "text": [
        "Populating the interactive namespace from numpy and matplotlib\n"
       ]
      }
     ],
     "prompt_number": 1
    },
    {
     "cell_type": "code",
     "collapsed": false,
     "input": [
      "##creates a neighborhood like:\n",
      "# S P \n",
      "# P S\n",
      "def symmetric_game(n):\n",
      "    game = np.zeros([n,n])\n",
      "    for i in range(n):\n",
      "        for j in range(n):\n",
      "            r = round(random()*10)/10.0 \n",
      "            if ((0<=i<n/2 ) and (0<=j<n/2)) or ((n/2<=i<n) and (n/2<=j<n)):\n",
      "                if r > .5 :\n",
      "                    r=r-.5\n",
      "            elif ((n/2<=i<n ) and (0<=j<n/2)) or ((0<=i<n/2) and (n/2<=j<n)):\n",
      "                    if r < .5:\n",
      "                        r=r+.5\n",
      "            game[i][j] =r \n",
      "    return game"
     ],
     "language": "python",
     "metadata": {},
     "outputs": [],
     "prompt_number": 283
    },
    {
     "cell_type": "code",
     "collapsed": false,
     "input": [
      "def round_extreme(value):\n",
      "    if value<0:\n",
      "        return 0\n",
      "    elif value>1:\n",
      "        return 1\n",
      "    else:\n",
      "        return value"
     ],
     "language": "python",
     "metadata": {},
     "outputs": [],
     "prompt_number": 284
    },
    {
     "cell_type": "code",
     "collapsed": false,
     "input": [
      "round_extreme(2)"
     ],
     "language": "python",
     "metadata": {},
     "outputs": [
      {
       "metadata": {},
       "output_type": "pyout",
       "prompt_number": 327,
       "text": [
        "1"
       ]
      }
     ],
     "prompt_number": 327
    },
    {
     "cell_type": "code",
     "collapsed": false,
     "input": [
      "def calculate_alpha(grid,i,j):\n",
      "    #Von Neumann neighborhood\n",
      "    alpha = 0\n",
      "    update = 0\n",
      "    #check for left neighbor\n",
      "    if i-1>=0:\n",
      "        alpha = alpha+grid[i-1][j]\n",
      "        update = update+1\n",
      "    #check for right neighbor\n",
      "    if i+1<len(grid):\n",
      "        alpha=alpha+grid[i+1][j]\n",
      "        update = update+1\n",
      "    #check for top neighbor\n",
      "    if j-1>=0:\n",
      "        alpha = alpha+grid[i][j-1]\n",
      "        update = update+1\n",
      "    #check for bottom neighbor\n",
      "    if j+1<len(grid):\n",
      "        alpha = alpha+grid[i][j+1]\n",
      "        update = update+1\n",
      "    if update==0:\n",
      "        return grid[i][j]\n",
      "    return alpha/update"
     ],
     "language": "python",
     "metadata": {},
     "outputs": [],
     "prompt_number": 285
    },
    {
     "cell_type": "code",
     "collapsed": false,
     "input": [
      "def update_extreme(grid,i,j,p,s,k):\n",
      "    return grid[i][j]"
     ],
     "language": "python",
     "metadata": {},
     "outputs": [],
     "prompt_number": 286
    },
    {
     "cell_type": "code",
     "collapsed": false,
     "input": [
      "##little island of one\n",
      "def island(n,steal,fanatic):\n",
      "    grid = np.ones([n,n])\n",
      "    for i in range(len(grid)):\n",
      "        for j in range(len(grid)):\n",
      "            g_temp=grid[i][j]*random()\n",
      "            if not steal:\n",
      "                if g_temp>.5:\n",
      "                    g_temp=g_temp-.5\n",
      "            else:\n",
      "                if g_temp<.5:\n",
      "                    g_temp=g_temp+.5\n",
      "            grid[i][j]=g_temp\n",
      "    ##set center to stealing\n",
      "   \n",
      "    grid[n/2][n/2]=fanatic\n",
      "    return grid\n",
      "    "
     ],
     "language": "python",
     "metadata": {},
     "outputs": [],
     "prompt_number": 343
    },
    {
     "cell_type": "code",
     "collapsed": false,
     "input": [
      "##little island of one\n",
      "def island_extreme(n,pay):\n",
      "    if pay:\n",
      "        grid = .2*np.zeros([n,n])\n",
      "        grid[n/2][n/2]=.9\n",
      "    else:\n",
      "        grid = .8*np.ones([n,n])\n",
      "        grid[n/2][n/2]=.1\n",
      "    return grid"
     ],
     "language": "python",
     "metadata": {},
     "outputs": [],
     "prompt_number": 371
    },
    {
     "cell_type": "code",
     "collapsed": false,
     "input": [
      "def calculate_time_plus_one_values(grid,p,s,k):\n",
      "    #for now just testing our update rule\n",
      "    #tests simultaneously\n",
      "    #not sure about normalization\n",
      "    update_matrix = np.copy(grid)\n",
      "    for i in range(len(grid)):\n",
      "        for j in range(len(grid)):\n",
      "            A = grid[i][j]\n",
      "            alpha = calculate_alpha(grid,i,j)\n",
      "            if(A == 0 or A==1):\n",
      "                A_t_plus_one = update_extreme(grid,i,j,p,s,k)\n",
      "            else:\n",
      "                term_one = alpha*(1-p*(e**(1-(1/(1-A))-(1/k*(abs(A-alpha))))))\n",
      "                term_two = (1-alpha)*(s*(e**(1-(1/A)-(1/k*(abs(A-alpha))))))\n",
      "                A_t_plus_one= term_one + term_two\n",
      "            update_matrix[i][j]=A_t_plus_one\n",
      "    return update_matrix\n",
      "            "
     ],
     "language": "python",
     "metadata": {},
     "outputs": [],
     "prompt_number": 288
    },
    {
     "cell_type": "code",
     "collapsed": false,
     "input": [
      "def calculate_time_plus_one_values_simpler(grid,p,s):\n",
      "    update_matrix = np.copy(grid)\n",
      "    for i in range(len(grid)):\n",
      "        for j in range(len(grid)):\n",
      "            A = grid[i][j]\n",
      "            alpha = calculate_alpha(grid,i,j)\n",
      "            A_t_plus_one = A +((1-(alpha and A)) *((alpha*p)-((1-alpha)*s)))\n",
      "            A_t_plus_one= round_extreme(A_t_plus_one)\n",
      "            update_matrix[i][j]=A_t_plus_one\n",
      "    return update_matrix"
     ],
     "language": "python",
     "metadata": {},
     "outputs": [],
     "prompt_number": 328
    },
    {
     "cell_type": "code",
     "collapsed": false,
     "input": [
      "##Need to simplify because we do not see what we expect\n"
     ],
     "language": "python",
     "metadata": {},
     "outputs": [],
     "prompt_number": 290
    },
    {
     "cell_type": "code",
     "collapsed": false,
     "input": [
      "def update_matrix(grid,p,s,k,time_range):\n",
      "    #make movie later\n",
      "    new_grid = np.copy(grid)\n",
      "    for t in range(time_range):\n",
      "        new_matrix =calculate_time_plus_one_values_simpler(new_grid,p,s)\n",
      "        for i in range(len(grid)):\n",
      "            for j in range(len(grid)):\n",
      "                new_grid[i][j]=new_matrix[i][j]\n",
      "    return new_grid"
     ],
     "language": "python",
     "metadata": {},
     "outputs": [],
     "prompt_number": 393
    },
    {
     "cell_type": "code",
     "collapsed": false,
     "input": [
      "##play around with cmap\n",
      "def plot_stealer_payer_grid(grid):\n",
      "    ax = plt.axes()\n",
      "    ax.matshow(grid,cmap=cm.binary)"
     ],
     "language": "python",
     "metadata": {},
     "outputs": [],
     "prompt_number": 292
    },
    {
     "cell_type": "code",
     "collapsed": false,
     "input": [
      "g = symmetric_game(4)\n",
      "plot_stealer_payer_grid(g)\n"
     ],
     "language": "python",
     "metadata": {},
     "outputs": [
      {
       "metadata": {},
       "output_type": "display_data",
       "png": "[encoded data removed]",
       "text": [
        "<matplotlib.figure.Figure at 0x106e6c350>"
       ]
      }
     ],
     "prompt_number": 293
    },
    {
     "cell_type": "code",
     "collapsed": false,
     "input": [
      "g"
     ],
     "language": "python",
     "metadata": {},
     "outputs": [
      {
       "metadata": {},
       "output_type": "pyout",
       "prompt_number": 294,
       "text": [
        "array([[ 0.5,  0.5,  0.9,  0.7],\n",
        "       [ 0.2,  0.5,  0.9,  0.8],\n",
        "       [ 0.7,  0.9,  0.3,  0.3],\n",
        "       [ 0.6,  0.9,  0.3,  0. ]])"
       ]
      }
     ],
     "prompt_number": 294
    },
    {
     "cell_type": "code",
     "collapsed": false,
     "input": [
      "g_future = update_matrix(g,.1,.9,1,2000)"
     ],
     "language": "python",
     "metadata": {},
     "outputs": [],
     "prompt_number": 295
    },
    {
     "cell_type": "code",
     "collapsed": false,
     "input": [
      "g_future"
     ],
     "language": "python",
     "metadata": {},
     "outputs": [
      {
       "metadata": {},
       "output_type": "pyout",
       "prompt_number": 296,
       "text": [
        "array([[ 0.775     ,  0.63333333,  0.92      ,  0.715     ],\n",
        "       [ 0.46666667,  0.6375    ,  0.9275    ,  0.85333333],\n",
        "       [ 0.8       ,  0.93      ,  0.51      ,  0.67333333],\n",
        "       [ 0.64      ,  0.93      ,  0.65      ,  0.6       ]])"
       ]
      }
     ],
     "prompt_number": 296
    },
    {
     "cell_type": "code",
     "collapsed": false,
     "input": [
      "\n",
      "plot_stealer_payer_grid(g_future)\n",
      "    "
     ],
     "language": "python",
     "metadata": {},
     "outputs": [
      {
       "metadata": {},
       "output_type": "display_data",
       "png": "[encoded data removed]",
       "text": [
        "<matplotlib.figure.Figure at 0x100fc3e50>"
       ]
      }
     ],
     "prompt_number": 297
    },
    {
     "cell_type": "code",
     "collapsed": false,
     "input": [
      "plot_stealer_payer_grid(g_future)"
     ],
     "language": "python",
     "metadata": {},
     "outputs": [
      {
       "metadata": {},
       "output_type": "display_data",
       "png": "[encoded data removed]",
       "text": [
        "<matplotlib.figure.Figure at 0x105675110>"
       ]
      }
     ],
     "prompt_number": 298
    },
    {
     "cell_type": "code",
     "collapsed": false,
     "input": [
      " (1-alpha)*(s*(e**(1-(1/A)-(1/k*(abs(A-alpha))))))"
     ],
     "language": "python",
     "metadata": {},
     "outputs": [
      {
       "metadata": {},
       "output_type": "pyout",
       "prompt_number": 299,
       "text": [
        "0.0"
       ]
      }
     ],
     "prompt_number": 299
    },
    {
     "cell_type": "code",
     "collapsed": false,
     "input": [
      "plot_stealer_payer_grid(symmetric_game(12))"
     ],
     "language": "python",
     "metadata": {},
     "outputs": [
      {
       "metadata": {},
       "output_type": "display_data",
       "png": "[encoded data removed]",
       "text": [
        "<matplotlib.figure.Figure at 0x10790e190>"
       ]
      }
     ],
     "prompt_number": 300
    },
    {
     "cell_type": "code",
     "collapsed": false,
     "input": [
      "##the first parameter is the dimension of the matrix must be square\n",
      "##the second parameter is 1 if you want 1 stealer, and 0 if you want one payer\n",
      "##the third parameter is the attitude of the middle element if the second \n",
      "island_t = island(15,1,.9)"
     ],
     "language": "python",
     "metadata": {},
     "outputs": [],
     "prompt_number": 410
    },
    {
     "cell_type": "code",
     "collapsed": false,
     "input": [
      "plot_stealer_payer_grid(island_t)"
     ],
     "language": "python",
     "metadata": {},
     "outputs": [
      {
       "metadata": {},
       "output_type": "display_data",
       "png": "[encoded data removed]",
       "text": [
        "<matplotlib.figure.Figure at 0x1079225d0>"
       ]
      }
     ],
     "prompt_number": 418
    },
    {
     "cell_type": "code",
     "collapsed": false,
     "input": [
      "island_future = update_matrix(island_t,0,1,0,1)\n",
      "plot_stealer_payer_grid(island_future)"
     ],
     "language": "python",
     "metadata": {},
     "outputs": [
      {
       "metadata": {},
       "output_type": "display_data",
       "png": "[encoded data removed]",
       "text": [
        "<matplotlib.figure.Figure at 0x104769490>"
       ]
      }
     ],
     "prompt_number": 423
    },
    {
     "cell_type": "code",
     "collapsed": false,
     "input": [
      "island_future.mean()\n",
      "island_t.mean()"
     ],
     "language": "python",
     "metadata": {},
     "outputs": [
      {
       "metadata": {},
       "output_type": "pyout",
       "prompt_number": 425,
       "text": [
        "0.74217484778871656"
       ]
      }
     ],
     "prompt_number": 425
    },
    {
     "cell_type": "code",
     "collapsed": false,
     "input": [
      "island_future = update_matrix(island_t,.9,0,1,2)\n",
      "plot_stealer_payer_grid(island_future)"
     ],
     "language": "python",
     "metadata": {},
     "outputs": [
      {
       "metadata": {},
       "output_type": "display_data",
       "png": "[encoded data removed]",
       "text": [
        "<matplotlib.figure.Figure at 0x107b88090>"
       ]
      }
     ],
     "prompt_number": 407
    },
    {
     "cell_type": "code",
     "collapsed": false,
     "input": [
      "e**-(1/.75)"
     ],
     "language": "python",
     "metadata": {},
     "outputs": [
      {
       "metadata": {},
       "output_type": "pyout",
       "prompt_number": 240,
       "text": [
        "0.2635971381157268"
       ]
      }
     ],
     "prompt_number": 240
    },
    {
     "cell_type": "code",
     "collapsed": false,
     "input": [
      "round(1.99)"
     ],
     "language": "python",
     "metadata": {},
     "outputs": [
      {
       "metadata": {},
       "output_type": "pyout",
       "prompt_number": 243,
       "text": [
        "2.0"
       ]
      }
     ],
     "prompt_number": 243
    },
    {
     "cell_type": "code",
     "collapsed": false,
     "input": [
      "a2 = 1\n",
      "A1 = 0 \n",
      "\n",
      "a7 = 9\n",
      "a7*(1-(a2 and A1))"
     ],
     "language": "python",
     "metadata": {},
     "outputs": [
      {
       "metadata": {},
       "output_type": "pyout",
       "prompt_number": 276,
       "text": [
        "9"
       ]
      }
     ],
     "prompt_number": 276
    },
    {
     "cell_type": "code",
     "collapsed": false,
     "input": [
      ".8*np.ones([3,3])"
     ],
     "language": "python",
     "metadata": {},
     "outputs": [
      {
       "metadata": {},
       "output_type": "pyout",
       "prompt_number": 374,
       "text": [
        "array([[ 0.8,  0.8,  0.8],\n",
        "       [ 0.8,  0.8,  0.8],\n",
        "       [ 0.8,  0.8,  0.8]])"
       ]
      }
     ],
     "prompt_number": 374
    },
    {
     "cell_type": "code",
     "collapsed": false,
     "input": [
      "grr = [1,2,3]\n",
      "grr[:2]"
     ],
     "language": "python",
     "metadata": {},
     "outputs": [
      {
       "metadata": {},
       "output_type": "pyout",
       "prompt_number": 4,
       "text": [
        "[1, 2]"
       ]
      }
     ],
     "prompt_number": 4
    },
    {
     "cell_type": "code",
     "collapsed": false,
     "input": [
      "from random import random"
     ],
     "language": "python",
     "metadata": {},
     "outputs": [],
     "prompt_number": 5
    },
    {
     "cell_type": "code",
     "collapsed": false,
     "input": [],
     "language": "python",
     "metadata": {},
     "outputs": [
      {
       "ename": "NameError",
       "evalue": "name 'round_extreme' is not defined",
       "output_type": "pyerr",
       "traceback": [
        "\u001b[0;31m---------------------------------------------------------------------------\u001b[0m\n\u001b[0;31mNameError\u001b[0m                                 Traceback (most recent call last)",
        "\u001b[0;32m<ipython-input-6-7845ab60e1a1>\u001b[0m in \u001b[0;36m<module>\u001b[0;34m()\u001b[0m\n\u001b[0;32m----> 1\u001b[0;31m \u001b[0mround_extreme\u001b[0m\u001b[0;34m(\u001b[0m\u001b[0mrandom\u001b[0m\u001b[0;34m(\u001b[0m\u001b[0;34m)\u001b[0m\u001b[0;34m)\u001b[0m\u001b[0;34m\u001b[0m\u001b[0m\n\u001b[0m",
        "\u001b[0;31mNameError\u001b[0m: name 'round_extreme' is not defined"
       ]
      }
     ],
     "prompt_number": 6
    },
    {
     "cell_type": "code",
     "collapsed": false,
     "input": [],
     "language": "python",
     "metadata": {},
     "outputs": []
    }
   ],
   "metadata": {}
  }
 ]
}