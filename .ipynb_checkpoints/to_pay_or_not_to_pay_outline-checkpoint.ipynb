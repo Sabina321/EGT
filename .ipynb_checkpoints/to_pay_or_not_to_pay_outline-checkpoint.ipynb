{
 "metadata": {
  "name": "",
  "signature": "sha256:6741df17bc8f860fb81d3109c286777f7714b7466e18af9ba36ca2226e1fd011"
 },
 "nbformat": 3,
 "nbformat_minor": 0,
 "worksheets": [
  {
   "cells": [
    {
     "cell_type": "code",
     "collapsed": false,
     "input": [
      "import numpy as np\n",
      "from sympy import *\n",
      "from sympy.parsing.sympy_parser import parse_expr\n",
      "import essential_game_functionality\n",
      "import replicator\n",
      "reload(essential_game_functionality)\n",
      "reload(replicator)\n",
      "from IPython.display import Latex\n",
      "from IPython.display import Math"
     ],
     "language": "python",
     "metadata": {},
     "outputs": [],
     "prompt_number": 5
    },
    {
     "cell_type": "markdown",
     "metadata": {},
     "source": [
      "Introduction \n",
      "===============\n",
      "\n",
      "We present this game through two choices that are available to consumers: the decision to pay or not to pay. "
     ]
    },
    {
     "cell_type": "markdown",
     "metadata": {},
     "source": [
      "Basic Equations\n",
      "---------------\n",
      "\n",
      "Ultimately a consumer must decide whether it is in their best interest to steal or to pay. To model this decision we first consider the costs of either choice. \n",
      "\n",
      "Let $c_p$ be the cost of paying, it's units are USD/kWh. \n",
      "\n",
      "Let $c_s$ be the cost of stealing. We say that $c_s = k\\ast f$, where $k$ is the frequency with which a person is caught and $f$ is the fine that they receive. \n",
      "\n",
      "In order to compare these units we choose the cost of paying as the bill amount and divide $c_s$ by the billing cycle, $bc$. "
     ]
    },
    {
     "cell_type": "markdown",
     "metadata": {},
     "source": [
      "Player Interactions\n",
      "-------------------\n",
      "INSERT TEXT FROM PAPER\n",
      "\n",
      "Math(r' \\bordermatrix{~ & S & P \\cr S & c_s \\ast (k+c)/bc & c_s\\cr P & c_p+p_i & c_p \\cr}')\n"
     ]
    },
    {
     "cell_type": "code",
     "collapsed": false,
     "input": [
      "Latex(r\"\"\"\\begin{equation*} \\mathbf{V}_1 \\times \\mathbf{V}_2 = \\begin{vmatrix} \\mathbf{i} & \\mathbf{j} & \\mathbf{k} \\\\ \\frac{\\partial X}{\\partial u} & \\frac{\\partial Y}{\\partial u} & 0 \\\\ \\frac{\\partial X}{\\partial v} & \\frac{\\partial Y}{\\partial v} & 0 \\end{vmatrix} \\end{equation*}\"\"\")"
     ],
     "language": "python",
     "metadata": {},
     "outputs": [
      {
       "latex": [
        "\\begin{equation*} \\mathbf{V}_1 \\times \\mathbf{V}_2 = \\begin{vmatrix} \\mathbf{i} & \\mathbf{j} & \\mathbf{k} \\\\ \\frac{\\partial X}{\\partial u} & \\frac{\\partial Y}{\\partial u} & 0 \\\\ \\frac{\\partial X}{\\partial v} & \\frac{\\partial Y}{\\partial v} & 0 \\end{vmatrix} \\end{equation*}"
       ],
       "metadata": {},
       "output_type": "pyout",
       "prompt_number": 10,
       "text": [
        "<IPython.core.display.Latex at 0x1069e1c10>"
       ]
      }
     ],
     "prompt_number": 10
    },
    {
     "cell_type": "code",
     "collapsed": false,
     "input": [],
     "language": "python",
     "metadata": {},
     "outputs": []
    }
   ],
   "metadata": {}
  }
 ]
}