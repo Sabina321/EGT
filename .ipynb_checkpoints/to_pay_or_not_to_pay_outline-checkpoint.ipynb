{
 "metadata": {
  "name": "",
  "signature": "sha256:4c328ef7903baec726afb87c5830116392b79f45cf3a1df2b196016206981a4e"
 },
 "nbformat": 3,
 "nbformat_minor": 0,
 "worksheets": [
  {
   "cells": [
    {
     "cell_type": "code",
     "collapsed": false,
     "input": [
      "import numpy as np\n",
      "from sympy import *\n",
      "from sympy.parsing.sympy_parser import parse_expr\n",
      "import essential_game_functionality\n",
      "import replicator\n",
      "reload(essential_game_functionality)\n",
      "reload(replicator)\n",
      "from pandas import *\n",
      "from IPython.display import Latex\n",
      "from IPython.display import Math\n"
     ],
     "language": "python",
     "metadata": {},
     "outputs": [],
     "prompt_number": 26
    },
    {
     "cell_type": "markdown",
     "metadata": {},
     "source": [
      "Introduction \n",
      "===============\n",
      "\n",
      "We present this game through two choices that are available to consumers: the decision to pay or not to pay. "
     ]
    },
    {
     "cell_type": "markdown",
     "metadata": {},
     "source": [
      "Basic Equations\n",
      "---------------\n",
      "\n",
      "Ultimately a consumer must decide whether it is in their best interest to steal or to pay. To model this decision we first consider the costs of either choice. \n",
      "\n",
      "Let $c_p$ be the cost of paying, it's units are USD/kWh. \n",
      "\n",
      "Let $c_s$ be the cost of stealing. We say that $c_s = k\\ast f$, where $k$ is the frequency with which a person is caught and $f$ is the fine that they receive. \n",
      "\n",
      "In order to compare these units we choose the cost of paying as the bill amount and divide $c_s$ by the billing cycle, $bc$. "
     ]
    },
    {
     "cell_type": "markdown",
     "metadata": {},
     "source": [
      "Player Interactions\n",
      "-------------------\n",
      "INSERT TEXT FROM PAPER\n",
      "\n",
      "\\begin{equation*}\\begin{matrix} ~ & S & P \\\\ S & c_s \\ast (k+c)/bc & c_s \\\\  P & c_p+p_i & c_p \\end{matrix} \\end{equation*}\n"
     ]
    },
    {
     "cell_type": "markdown",
     "metadata": {},
     "source": [
      "Social Norms\n",
      "-------------------\n",
      "\n",
      "INSERT FROM PAPER"
     ]
    },
    {
     "cell_type": "markdown",
     "metadata": {},
     "source": [
      "Spatial Dynamics\n",
      "----------------\n",
      "\n",
      "INSERT FROM PAPER"
     ]
    },
    {
     "cell_type": "markdown",
     "metadata": {},
     "source": [
      "Case Study - Indonesia\n",
      "=========================\n",
      "\n",
      "Using data from South Africa we attempt to estimate the values for the various parameters. "
     ]
    },
    {
     "cell_type": "markdown",
     "metadata": {},
     "source": [
      "Basic Equations\n",
      "---------------\n",
      "Using the variable defined above construct the basic equations as such "
     ]
    },
    {
     "cell_type": "code",
     "collapsed": false,
     "input": [
      "\n",
      "cp,cs,k,bc,f = symbols('cp,cs,k,bc,f') \n",
      "cs = k*f/(bc)"
     ],
     "language": "python",
     "metadata": {},
     "outputs": [],
     "prompt_number": 23
    },
    {
     "cell_type": "markdown",
     "metadata": {},
     "source": [
      "Using data from the Energy Information Admistration we have the following table for the average household price for kilowatt hour in USD. "
     ]
    },
    {
     "cell_type": "code",
     "collapsed": false,
     "input": [
      "Indonesia_prices = Series([0.025,0.042,0.061,0.062,0.058,0.062,0.063,0.061],index = [i for i in range(2001,2009,1)])"
     ],
     "language": "python",
     "metadata": {},
     "outputs": [],
     "prompt_number": 28
    },
    {
     "cell_type": "code",
     "collapsed": false,
     "input": [],
     "language": "python",
     "metadata": {},
     "outputs": [
      {
       "metadata": {},
       "output_type": "pyout",
       "prompt_number": 29,
       "text": [
        "2001    0.025\n",
        "2002    0.042\n",
        "2003    0.061\n",
        "2004    0.062\n",
        "2005    0.058\n",
        "2006    0.062\n",
        "2007    0.063\n",
        "2008    0.061\n",
        "dtype: float64"
       ]
      }
     ],
     "prompt_number": 29
    },
    {
     "cell_type": "code",
     "collapsed": false,
     "input": [],
     "language": "python",
     "metadata": {},
     "outputs": []
    }
   ],
   "metadata": {}
  }
 ]
}