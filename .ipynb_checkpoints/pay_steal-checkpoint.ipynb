{
 "metadata": {
  "name": "",
  "signature": "sha256:567a88066125296aef045bc8a7f5f574072db4d980d7a0d2bb76394a123939a1"
 },
 "nbformat": 3,
 "nbformat_minor": 0,
 "worksheets": [
  {
   "cells": [
    {
     "cell_type": "code",
     "collapsed": false,
     "input": [
      "from sympy import *\n",
      "import essential_game_functionality \n",
      "import numpy as np\n",
      "import matplotlib.pyplot as plt\n",
      "import pandas as pd\n",
      "%matplotlib inline\n",
      "%pylab inline\n",
      "#init_printing()"
     ],
     "language": "python",
     "metadata": {},
     "outputs": [
      {
       "output_type": "stream",
       "stream": "stdout",
       "text": [
        "Populating the interactive namespace from numpy and matplotlib\n"
       ]
      },
      {
       "output_type": "stream",
       "stream": "stderr",
       "text": [
        "WARNING: pylab import has clobbered these variables: ['Polygon', 'random', 'poly', 'cosh', 'flatten', 'conjugate', 'diff', 'Circle', 'tan', 'roots', 'plot', 'eye', 'trace', 'floor', 'diag', 'invert', 'var', 'nan', 'sqrt', 'source', 'add', 'zeros', 'take', 'prod', 'plotting', 'product', 'power', 'multinomial', 'transpose', 'test', 'beta', 'ones', 'sinh', 'vectorize', 'sign', 'trunc', 'cos', 'seterr', 'tanh', 'mod', 'det', 'pi', 'sin', 'binomial', 'solve', 'log', 'exp', 'reshape', 'gamma', 'interactive']\n",
        "`%matplotlib` prevents importing * from pylab and numpy\n"
       ]
      }
     ],
     "prompt_number": 108
    },
    {
     "cell_type": "code",
     "collapsed": false,
     "input": [
      "reload(essential_game_functionality)\n",
      "import essential_game_functionality as egf"
     ],
     "language": "python",
     "metadata": {},
     "outputs": [],
     "prompt_number": 369
    },
    {
     "cell_type": "code",
     "collapsed": false,
     "input": [
      "time_range = 100\n",
      "share_stealers = .23\n",
      "A = .7\n",
      "k= 10\n",
      "update_a_at_t= 5\n",
      "p_detection = .075\n",
      "fine = 25\n",
      "p_pay_fine= 1\n",
      "bribe = 0\n",
      "price = .75\n",
      "penalty = .01\n",
      "service = 0\n",
      "use = 129"
     ],
     "language": "python",
     "metadata": {},
     "outputs": [],
     "prompt_number": 370
    },
    {
     "cell_type": "code",
     "collapsed": false,
     "input": [
      "def show_plot(results):\n",
      "    fig = plt.figure()\n",
      "    axes1 = fig.add_axes([0.1, 0.1, 0.8, 0.8])\n",
      "    shares = [x[0] for x in results]\n",
      "    times = [x for x in range(len(shares))]\n",
      "    axes1.plot(times,shares)\n",
      "    axes1.set_xlabel('Time')\n",
      "    axes1.set_ylabel('Share of Stealers')\n",
      "    plt.show()"
     ],
     "language": "python",
     "metadata": {},
     "outputs": [],
     "prompt_number": 371
    },
    {
     "cell_type": "code",
     "collapsed": false,
     "input": [
      "def show_plot_mean():\n",
      "    fig = plt.figure()\n",
      "    axes1 = fig.add_axes([0.1, 0.1, 0.8, 0.8])\n",
      "    shares = np.arange(.1,1.1,.1)\n",
      "    mean = [s*egf.get_cost_stealing(A,k,p_detection,fine,p_pay_fine,bribe,s)+(1-s)*egf.get_value_paying(price,penalty,s,service,use) for s in shares]\n",
      "\n",
      "    axes1.plot(shares,mean)\n",
      "    axes1.set_xlabel('Share of Stealers')\n",
      "    axes1.set_ylabel('Mean Fitness')\n",
      "    plt.show()  "
     ],
     "language": "python",
     "metadata": {},
     "outputs": [],
     "prompt_number": 372
    },
    {
     "cell_type": "code",
     "collapsed": false,
     "input": [
      "show_plot_mean()"
     ],
     "language": "python",
     "metadata": {},
     "outputs": [
      {
       "metadata": {},
       "output_type": "display_data",
       "png": "[encoded data removed]",
       "text": [
        "<matplotlib.figure.Figure at 0x1133eda90>"
       ]
      }
     ],
     "prompt_number": 373
    },
    {
     "cell_type": "code",
     "collapsed": false,
     "input": [
      "results = egf.get_mean_over_time(time_range, share_stealers, A, k, update_a_at_t, p_detection, fine, p_pay_fine, bribe, price, penalty,  service, use)"
     ],
     "language": "python",
     "metadata": {},
     "outputs": [],
     "prompt_number": 374
    },
    {
     "cell_type": "code",
     "collapsed": false,
     "input": [
      "results[98][0]-results[97][0]<1e-15"
     ],
     "language": "python",
     "metadata": {},
     "outputs": [
      {
       "metadata": {},
       "output_type": "pyout",
       "prompt_number": 28,
       "text": [
        "True"
       ]
      }
     ],
     "prompt_number": 28
    },
    {
     "cell_type": "code",
     "collapsed": false,
     "input": [
      "def equilibrium(results,epsilon):\n",
      "    for i in range(len(results)):\n",
      "        if i+1<len(results):\n",
      "            if abs(results[i+1][0]-results[i][0])<epsilon:\n",
      "                return results[i][0]\n",
      "    return results[len(results)-1][0]"
     ],
     "language": "python",
     "metadata": {},
     "outputs": [],
     "prompt_number": 35
    },
    {
     "cell_type": "code",
     "collapsed": false,
     "input": [
      "equilibrium(results,1e-13)"
     ],
     "language": "python",
     "metadata": {},
     "outputs": [
      {
       "latex": [
        "$$0.140971737568$$"
       ],
       "metadata": {},
       "output_type": "pyout",
       "png": "[encoded data removed]",
       "prompt_number": 34,
       "text": [
        "0.140971737568"
       ]
      }
     ],
     "prompt_number": 34
    },
    {
     "cell_type": "code",
     "collapsed": false,
     "input": [
      "##Need to set fine, use, price, rate of detection, and cost and get s\n",
      "##Would that ever happen though, you have shares of stealers you can't really change it?"
     ],
     "language": "python",
     "metadata": {},
     "outputs": [],
     "prompt_number": 8
    },
    {
     "cell_type": "code",
     "collapsed": false,
     "input": [
      "##Need to plot egf changing parameters and holding others constant\n",
      "def vary(start,stop,step):\n",
      "    detection_rates = []\n",
      "    equilibria =[]\n",
      "    variables=[]\n",
      "    for p_detection in np.arange(start,stop,step):\n",
      "        results = egf.get_mean_over_time(time_range, share_stealers, A, k, update_a_at_t, p_detection, fine, p_pay_fine, bribe, price, penalty,  service, use)\n",
      "        detection_rates.append(p_detection)\n",
      "        equilibria.append(equilibrium(results,1e-13))\n",
      "    return [detection_rates,equilibria]"
     ],
     "language": "python",
     "metadata": {},
     "outputs": [],
     "prompt_number": 379
    },
    {
     "cell_type": "code",
     "collapsed": false,
     "input": [
      "[pr,eq]=vary(0,1,.01)"
     ],
     "language": "python",
     "metadata": {},
     "outputs": [],
     "prompt_number": 380
    },
    {
     "cell_type": "code",
     "collapsed": false,
     "input": [
      "def plot_varying(x,y,xtitle,title):\n",
      "    fig = plt.figure()\n",
      "    axes1 = fig.add_axes([0.1, 0.1, 0.8, 0.8])\n",
      "    x_new = x[:len(x)-9]\n",
      "    y_new = y[:len(y)-9]\n",
      "    axes1.plot(x_new,y_new)\n",
      "    axes1.set_ylabel('Equilibrium Share of Stealers')\n",
      "    axes1.set_xlabel('{}'.format(xtitle))\n",
      "    axes1.set_title('{}'.format(title))\n",
      "    plt.show()"
     ],
     "language": "python",
     "metadata": {},
     "outputs": [],
     "prompt_number": 81
    },
    {
     "cell_type": "code",
     "collapsed": false,
     "input": [
      "plot_varying(pr,eq,'Probability of Detection','')"
     ],
     "language": "python",
     "metadata": {},
     "outputs": [
      {
       "metadata": {},
       "output_type": "display_data",
       "png": "[encoded data removed]",
       "text": [
        "<matplotlib.figure.Figure at 0x1128e99d0>"
       ]
      }
     ],
     "prompt_number": 381
    },
    {
     "cell_type": "code",
     "collapsed": false,
     "input": [
      "[fns, eqs]=vary(0,1100,100)"
     ],
     "language": "python",
     "metadata": {},
     "outputs": [],
     "prompt_number": 46
    },
    {
     "cell_type": "code",
     "collapsed": false,
     "input": [
      "plot_varying(fns,eqs,'$ Fine Amount')"
     ],
     "language": "python",
     "metadata": {},
     "outputs": [
      {
       "metadata": {},
       "output_type": "display_data",
       "png": "[encoded data removed]",
       "text": [
        "<matplotlib.figure.Figure at 0x111a227d0>"
       ]
      }
     ],
     "prompt_number": 47
    },
    {
     "cell_type": "code",
     "collapsed": false,
     "input": [
      "[rd,equi]=vary(0,1.1,.01)"
     ],
     "language": "python",
     "metadata": {},
     "outputs": [],
     "prompt_number": 63
    },
    {
     "cell_type": "code",
     "collapsed": false,
     "input": [
      "plot_varying(rd,equi,'Probability of Detection','Fine = $25')"
     ],
     "language": "python",
     "metadata": {},
     "outputs": [
      {
       "metadata": {},
       "output_type": "display_data",
       "png": "[encoded data removed]",
       "text": [
        "<matplotlib.figure.Figure at 0x111ac1d90>"
       ]
      }
     ],
     "prompt_number": 82
    },
    {
     "cell_type": "code",
     "collapsed": false,
     "input": [
      "fine"
     ],
     "language": "python",
     "metadata": {},
     "outputs": [
      {
       "latex": [
        "$$300$$"
       ],
       "metadata": {},
       "output_type": "pyout",
       "png": "[encoded data removed]",
       "prompt_number": 57,
       "text": [
        "300"
       ]
      }
     ],
     "prompt_number": 57
    },
    {
     "cell_type": "code",
     "collapsed": false,
     "input": [
      "##play around with cmap\n",
      "def plot_stealer_payer_grid(grid,title):\n",
      "    fig = plt.figure()\n",
      "    #ax = plt.axes()\n",
      "    \n",
      "    ax = fig.add_axes([0.1, 0.1, 0.8, 0.8])\n",
      "    ax.get_xaxis().set_visible(False)\n",
      "    ax.get_yaxis().set_visible(False)\n",
      "    ax.set_title(title)\n",
      "    ax.matshow(grid,cmap=cm.binary,vmin=0,vmax=1)"
     ],
     "language": "python",
     "metadata": {},
     "outputs": [],
     "prompt_number": 348
    },
    {
     "cell_type": "code",
     "collapsed": false,
     "input": [
      "centered_grid = egf.neighborhood_centered_around_stealer(15,.8,.1)"
     ],
     "language": "python",
     "metadata": {},
     "outputs": [],
     "prompt_number": 106
    },
    {
     "cell_type": "code",
     "collapsed": false,
     "input": [
      "plot_stealer_payer_grid(centered_grid)"
     ],
     "language": "python",
     "metadata": {},
     "outputs": [
      {
       "metadata": {},
       "output_type": "display_data",
       "png": "[encoded data removed]",
       "text": [
        "<matplotlib.figure.Figure at 0x111a05e10>"
       ]
      }
     ],
     "prompt_number": 117
    },
    {
     "cell_type": "code",
     "collapsed": false,
     "input": [
      "centered_grid.mean()"
     ],
     "language": "python",
     "metadata": {},
     "outputs": [
      {
       "latex": [
        "$$0.796248167658$$"
       ],
       "metadata": {},
       "output_type": "pyout",
       "png": "[encoded data removed]",
       "prompt_number": 110,
       "text": [
        "0.796248167658"
       ]
      }
     ],
     "prompt_number": 110
    },
    {
     "cell_type": "code",
     "collapsed": false,
     "input": [
      "[A,t,As,i ,n]= egf.approaching_target(.1,25,.1,.6,.5,.2,1,1,200,1e-13,1,0,.9)"
     ],
     "language": "python",
     "metadata": {},
     "outputs": [],
     "prompt_number": 365
    },
    {
     "cell_type": "code",
     "collapsed": false,
     "input": [
      "As[0]"
     ],
     "language": "python",
     "metadata": {},
     "outputs": [
      {
       "latex": [
        "$$0.255445888475$$"
       ],
       "metadata": {},
       "output_type": "pyout",
       "png": "[encoded data removed]",
       "prompt_number": 360,
       "text": [
        "0.255445888475"
       ]
      }
     ],
     "prompt_number": 360
    },
    {
     "cell_type": "code",
     "collapsed": false,
     "input": [
      "\n",
      "plot_stealer_payer_grid(i[0],\"Island of Pro Payer\")\n",
      "plot_stealer_payer_grid(i[len(i)-1],\"After 200 Time Steps\")\n"
     ],
     "language": "python",
     "metadata": {},
     "outputs": [
      {
       "metadata": {},
       "output_type": "display_data",
       "png": "[encoded data removed]",
       "text": [
        "<matplotlib.figure.Figure at 0x113904690>"
       ]
      },
      {
       "metadata": {},
       "output_type": "display_data",
       "png": "[encoded data removed]",
       "text": [
        "<matplotlib.figure.Figure at 0x113904c90>"
       ]
      }
     ],
     "prompt_number": 366
    },
    {
     "cell_type": "code",
     "collapsed": false,
     "input": [
      "fig = plt.figure()\n",
      "plt.rc('text', usetex=True)\n",
      "axes1 = fig.add_axes([0.1, 0.1, 0.8, 0.8])\n",
      "means = [tg.mean() for tg in i]\n",
      "time = [x for x in range(len(means))]\n",
      "axes1.plot(time,means)\n",
      "axes1.set_ylabel(r\"Mean A\")\n",
      "axes1.set_xlabel(r'Time')\n",
      "axes1.set_title('{} = .5 {}=.2 {}=.1 {}=.6'.format(r\"$m_p$\",r\"$m_s$\",r\"$s_s$\",r\"variance\"))"
     ],
     "language": "python",
     "metadata": {},
     "outputs": [
      {
       "metadata": {},
       "output_type": "pyout",
       "prompt_number": 329,
       "text": [
        "<matplotlib.text.Text at 0x113937550>"
       ]
      },
      {
       "metadata": {},
       "output_type": "display_data",
       "png": "[encoded data removed]",
       "text": [
        "<matplotlib.figure.Figure at 0x11325fb10>"
       ]
      }
     ],
     "prompt_number": 329
    },
    {
     "cell_type": "code",
     "collapsed": false,
     "input": [
      "len(means)\n",
      "len(time)"
     ],
     "language": "python",
     "metadata": {},
     "outputs": [
      {
       "latex": [
        "$$12$$"
       ],
       "metadata": {},
       "output_type": "pyout",
       "png": "[encoded data removed]",
       "prompt_number": 217,
       "text": [
        "12"
       ]
      }
     ],
     "prompt_number": 217
    },
    {
     "cell_type": "code",
     "collapsed": false,
     "input": [
      "time[0]"
     ],
     "language": "python",
     "metadata": {},
     "outputs": [
      {
       "latex": [
        "$$0$$"
       ],
       "metadata": {},
       "output_type": "pyout",
       "png": "[encoded data removed]",
       "prompt_number": 220,
       "text": [
        "0"
       ]
      }
     ],
     "prompt_number": 220
    },
    {
     "cell_type": "code",
     "collapsed": false,
     "input": [
      "plot_stealer_payer_grid(egf.island(15,0,1))"
     ],
     "language": "python",
     "metadata": {},
     "outputs": [
      {
       "metadata": {},
       "output_type": "display_data",
       "png": "[encoded data removed]",
       "text": [
        "<matplotlib.figure.Figure at 0x115d13c50>"
       ]
      }
     ],
     "prompt_number": 270
    },
    {
     "cell_type": "code",
     "collapsed": false,
     "input": [
      "$m_s$"
     ],
     "language": "python",
     "metadata": {},
     "outputs": [
      {
       "ename": "SyntaxError",
       "evalue": "invalid syntax (<ipython-input-300-967934fa4f86>, line 1)",
       "output_type": "pyerr",
       "traceback": [
        "\u001b[0;36m  File \u001b[0;32m\"<ipython-input-300-967934fa4f86>\"\u001b[0;36m, line \u001b[0;32m1\u001b[0m\n\u001b[0;31m    $m_s$\u001b[0m\n\u001b[0m    ^\u001b[0m\n\u001b[0;31mSyntaxError\u001b[0m\u001b[0;31m:\u001b[0m invalid syntax\n"
       ]
      }
     ],
     "prompt_number": 300
    },
    {
     "cell_type": "code",
     "collapsed": false,
     "input": [],
     "language": "python",
     "metadata": {},
     "outputs": []
    }
   ],
   "metadata": {}
  }
 ]
}