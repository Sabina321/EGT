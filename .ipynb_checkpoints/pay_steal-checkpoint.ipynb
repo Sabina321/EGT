{
 "metadata": {
  "name": "",
  "signature": "sha256:95e47be5b2b9fb53ae62f18024949520be35f2bc4a3a17a314285cd1ed8fafdf"
 },
 "nbformat": 3,
 "nbformat_minor": 0,
 "worksheets": [
  {
   "cells": [
    {
     "cell_type": "code",
     "collapsed": false,
     "input": [
      "from sympy import *\n",
      "import essential_game_functionality \n",
      "import numpy as np\n",
      "import matplotlib.pyplot as plt\n",
      "import pandas as pd\n",
      "%matplotlib inline\n",
      "init_printing()"
     ],
     "language": "python",
     "metadata": {},
     "outputs": [
      {
       "output_type": "stream",
       "stream": "stderr",
       "text": [
        "/Users/sabina/anaconda/lib/python2.7/site-packages/pandas/io/excel.py:626: UserWarning: Installed openpyxl is not supported at this time. Use >=1.6.1 and <2.0.0.\n",
        "  .format(openpyxl_compat.start_ver, openpyxl_compat.stop_ver))\n"
       ]
      }
     ],
     "prompt_number": 1
    },
    {
     "cell_type": "code",
     "collapsed": false,
     "input": [
      "reload(essential_game_functionality)\n",
      "import essential_game_functionality as egf"
     ],
     "language": "python",
     "metadata": {},
     "outputs": [],
     "prompt_number": 2
    },
    {
     "cell_type": "code",
     "collapsed": false,
     "input": [
      "time_range = 100\n",
      "share_stealers = .23\n",
      "A = .7\n",
      "k= 10\n",
      "update_a_at_t= 1\n",
      "p_detection = .075\n",
      "fine = 650\n",
      "p_pay_fine= 1\n",
      "bribe = 0\n",
      "price = .75\n",
      "penalty = .01\n",
      "service = 0\n",
      "use = 129"
     ],
     "language": "python",
     "metadata": {},
     "outputs": [],
     "prompt_number": 5
    },
    {
     "cell_type": "code",
     "collapsed": false,
     "input": [
      "def show_plot(results):\n",
      "    fig = plt.figure()\n",
      "    axes1 = fig.add_axes([0.1, 0.1, 0.8, 0.8])\n",
      "    shares = [x[0] for x in results]\n",
      "    times = [x for x in range(len(shares))]\n",
      "    axes1.plot(times,shares)\n",
      "    axes1.set_xlabel('Time')\n",
      "    axes1.set_ylabel('Share of Stealers')\n",
      "    plt.show()"
     ],
     "language": "python",
     "metadata": {},
     "outputs": [],
     "prompt_number": 6
    },
    {
     "cell_type": "code",
     "collapsed": false,
     "input": [
      "def show_plot_mean():\n",
      "    fig = plt.figure()\n",
      "    axes1 = fig.add_axes([0.1, 0.1, 0.8, 0.8])\n",
      "    shares = np.arange(.1,1.1,.1)\n",
      "    mean = [s*egf.get_cost_stealing(A,k,p_detection,fine,p_pay_fine,bribe,s)+(1-s)*egf.get_value_paying(price,penalty,s,service,use) for s in shares]\n",
      "\n",
      "    axes1.plot(shares,mean)\n",
      "    axes1.set_xlabel('Share of Stealers')\n",
      "    axes1.set_ylabel('Mean Fitness')\n",
      "    plt.show()  "
     ],
     "language": "python",
     "metadata": {},
     "outputs": [],
     "prompt_number": 9
    },
    {
     "cell_type": "code",
     "collapsed": false,
     "input": [
      "show_plot_mean()"
     ],
     "language": "python",
     "metadata": {},
     "outputs": [
      {
       "metadata": {},
       "output_type": "display_data",
       "png": "[encoded data removed]",
       "text": [
        "<matplotlib.figure.Figure at 0x111b11ed0>"
       ]
      }
     ],
     "prompt_number": 10
    },
    {
     "cell_type": "code",
     "collapsed": false,
     "input": [
      "results = egf.get_mean_over_time(time_range, share_stealers, A, k, update_a_at_t, p_detection, fine, p_pay_fine, bribe, price, penalty,  service, use)"
     ],
     "language": "python",
     "metadata": {},
     "outputs": [],
     "prompt_number": 11
    },
    {
     "cell_type": "code",
     "collapsed": false,
     "input": [
      "show_plot(results)"
     ],
     "language": "python",
     "metadata": {},
     "outputs": [
      {
       "metadata": {},
       "output_type": "display_data",
       "png": "[encoded data removed]",
       "text": [
        "<matplotlib.figure.Figure at 0x111940f50>"
       ]
      }
     ],
     "prompt_number": 13
    },
    {
     "cell_type": "code",
     "collapsed": false,
     "input": [],
     "language": "python",
     "metadata": {},
     "outputs": []
    }
   ],
   "metadata": {}
  }
 ]
}